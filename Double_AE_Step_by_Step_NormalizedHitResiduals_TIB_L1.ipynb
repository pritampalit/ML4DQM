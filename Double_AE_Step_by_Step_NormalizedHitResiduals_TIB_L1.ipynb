{
  "nbformat": 4,
  "nbformat_minor": 0,
  "metadata": {
    "kernelspec": {
      "name": "python3",
      "display_name": "Python 3"
    },
    "colab": {
      "name": "Double_AE_Step-by-Step_NormalizedHitResiduals_TIB_L1.ipynb",
      "provenance": [],
      "collapsed_sections": [],
      "include_colab_link": true
    },
    "accelerator": "GPU"
  },
  "cells": [
    {
      "cell_type": "markdown",
      "metadata": {
        "id": "view-in-github",
        "colab_type": "text"
      },
      "source": [
        "<a href=\"https://colab.research.google.com/github/pritampalit/ML4DQM/blob/master/Double_AE_Step_by_Step_NormalizedHitResiduals_TIB_L1.ipynb\" target=\"_parent\"><img src=\"https://colab.research.google.com/assets/colab-badge.svg\" alt=\"Open In Colab\"/></a>"
      ]
    },
    {
      "cell_type": "code",
      "metadata": {
        "id": "SE49EHPK4zIL",
        "colab_type": "code",
        "colab": {
          "base_uri": "https://localhost:8080/",
          "height": 34
        },
        "outputId": "e38ddbe9-e2ff-4e64-85d7-dfc16415c1b0"
      },
      "source": [
        "import tensorflow as tf\n",
        "device_name = tf.test.gpu_device_name()\n",
        "if device_name != '/device:GPU:0':\n",
        "  raise SystemError('GPU device not found')\n",
        "print('Found GPU at: {}'.format(device_name))"
      ],
      "execution_count": 135,
      "outputs": [
        {
          "output_type": "stream",
          "text": [
            "Found GPU at: /device:GPU:0\n"
          ],
          "name": "stdout"
        }
      ]
    },
    {
      "cell_type": "code",
      "metadata": {
        "id": "vvMT6I6BHHN2",
        "colab_type": "code",
        "colab": {
          "base_uri": "https://localhost:8080/",
          "height": 260
        },
        "outputId": "27f3fd7e-6d57-498c-c8be-b8c75959c0e6"
      },
      "source": [
        "import pandas as pd\n",
        "#from google.colab import files\n",
        "from google.colab import drive\n",
        "drive.mount('/content/drive')\n",
        "import matplotlib.pyplot as plt\n",
        "import numpy as np\n",
        "from ast import literal_eval\n",
        "import json\n",
        "\n",
        "df= pd.read_csv('/content/drive/My Drive/Colab Notebooks/ZeroBias_2017UL_DataFrame_NormalizedHitResiduals_TIB__Layer__1.txt')\n",
        "df['histo']=df['histo'].apply(literal_eval)\n",
        "\n",
        "df.set_index(['fromrun','fromlumi'], inplace=True, drop=False)\n",
        "df.sort_index(inplace=True)\n",
        "print(df['histo'].shape)\n",
        "print(df.tail())\n",
        "print(df.shape)\n",
        "print(type(df))\n",
        "print(type(df[\"histo\"]))"
      ],
      "execution_count": 136,
      "outputs": [
        {
          "output_type": "stream",
          "text": [
            "Drive already mounted at /content/drive; to attempt to forcibly remount, call drive.mount(\"/content/drive\", force_remount=True).\n",
            "(225954,)\n",
            "                  Unnamed: 0  ...                                              histo\n",
            "fromrun fromlumi              ...                                                   \n",
            "306462  95            211180  ...  [0, 0, 0, 0, 0, 0, 0, 0, 0, 0, 0, 0, 0, 0, 0, ...\n",
            "        96            211181  ...  [0, 0, 0, 0, 0, 0, 0, 0, 0, 0, 0, 0, 0, 0, 0, ...\n",
            "        97            211182  ...  [0, 0, 0, 0, 0, 0, 0, 0, 0, 0, 0, 0, 0, 0, 0, ...\n",
            "        98            211183  ...  [0, 0, 0, 0, 0, 0, 0, 0, 0, 0, 0, 0, 0, 0, 0, ...\n",
            "        99            211184  ...  [0, 0, 0, 0, 0, 0, 0, 0, 0, 0, 0, 0, 0, 0, 0, ...\n",
            "\n",
            "[5 rows x 10 columns]\n",
            "(225954, 10)\n",
            "<class 'pandas.core.frame.DataFrame'>\n",
            "<class 'pandas.core.series.Series'>\n"
          ],
          "name": "stdout"
        }
      ]
    },
    {
      "cell_type": "code",
      "metadata": {
        "id": "AwqbcqC86TL2",
        "colab_type": "code",
        "colab": {}
      },
      "source": [
        "import seaborn as sns\n",
        "from pylab import rcParams\n",
        "from keras.callbacks import ModelCheckpoint, TensorBoard\n",
        "from keras import regularizers\n",
        "from sklearn.preprocessing import StandardScaler\n",
        "from sklearn.model_selection import train_test_split\n",
        "from sklearn.metrics import confusion_matrix, precision_recall_curve\n",
        "from sklearn.metrics import recall_score, classification_report, auc, roc_curve\n",
        "from sklearn.metrics import precision_recall_fscore_support, f1_score\n",
        "from numpy.random import seed\n",
        "seed(1)\n",
        "import tensorflow\n",
        "#from tensorflow import set_random_seed\n",
        "tensorflow.random.set_seed(2)\n",
        "#set_random_seed(2)\n",
        "SEED = 123 #used to help randomly select the data points\n",
        "DATA_SPLIT_PCT = 0.2\n",
        "DATA_SPLIT_PCT_VALID = 0.1\n",
        "rcParams['figure.figsize'] = 10, 6"
      ],
      "execution_count": 137,
      "outputs": []
    },
    {
      "cell_type": "code",
      "metadata": {
        "id": "IF45uVsH846x",
        "colab_type": "code",
        "colab": {
          "base_uri": "https://localhost:8080/",
          "height": 69
        },
        "outputId": "4a69a7b3-9f7c-40f4-968e-da0312dd7be0"
      },
      "source": [
        "#add Golden JSON labels to the DF\n",
        "import json\n",
        "\n",
        "def checkLS(run,ls):\n",
        "    isok=False\n",
        "    global jsondata\n",
        "\n",
        "    if str(run) in jsondata.keys():\n",
        "        for i in jsondata[str(run)]:\n",
        "            if (ls>=i[0] and ls <=i[1]):\n",
        "                isok=True\n",
        "                return isok\n",
        "        return   isok\n",
        "\n",
        "#load the golden json file\n",
        "jsondata={}\n",
        "with open('/content/drive/My Drive/Colab Notebooks/GoldenJSON17.json') as json_file:\n",
        "    jsondata = json.load(json_file)\n",
        "\n",
        "df['labels']=False #initialize to false\n",
        "\n",
        "for run in df['fromrun'].unique():\n",
        "    for ls in df['fromlumi'][run]:\n",
        "        df['labels'][run][ls]=checkLS(run,ls)\n",
        "\n",
        "print(df[df['labels']==False].shape)\n",
        "print(df[df['labels']==True].shape)\n",
        "\n",
        "print(df.shape)\n",
        "\n",
        "\n",
        "df['type']=df['labels']\n",
        "df['type']=df['type'].apply(lambda x:0 if x== True else 1)\n",
        "\n",
        "df['mse2']=\"\""
      ],
      "execution_count": 138,
      "outputs": [
        {
          "output_type": "stream",
          "text": [
            "(23655, 11)\n",
            "(202299, 11)\n",
            "(225954, 11)\n"
          ],
          "name": "stdout"
        }
      ]
    },
    {
      "cell_type": "code",
      "metadata": {
        "id": "mLedH8KoP1Xw",
        "colab_type": "code",
        "colab": {
          "base_uri": "https://localhost:8080/",
          "height": 121
        },
        "outputId": "f9f1abdd-82eb-4d4a-fe4a-1be45f9bd706"
      },
      "source": [
        "df_train, df_test = train_test_split(df, test_size=DATA_SPLIT_PCT, random_state=SEED)\n",
        "df_train, df_valid = train_test_split(df_train, test_size=DATA_SPLIT_PCT_VALID, random_state=SEED)\n",
        "\n",
        "X_train_true_old = np.stack(df_train['histo'][df_train['labels']==True].values, axis=0)\n",
        "X_train_true = np.reshape(X_train_true_old, (len(X_train_true_old), 102))[:, 1:-1]\n",
        "X_train_true = np.reshape(X_train_true, (len(X_train_true_old),100))\n",
        "\n",
        "X_train_false_old = np.stack(df_train['histo'][df_train['labels']==False].values, axis=0)\n",
        "X_train_false = np.reshape(X_train_false_old, (len(X_train_false_old), 102))[:, 1:-1]\n",
        "X_train_false = np.reshape(X_train_false, (len(X_train_false_old),100))\n",
        "\n",
        "X_valid_true_old = np.stack(df_valid['histo'][df_valid['labels']==True].values, axis=0)\n",
        "X_valid_true = np.reshape(X_valid_true_old, (len(X_valid_true_old), 102))[:, 1:-1]\n",
        "X_valid_true = np.reshape(X_valid_true, (len(X_valid_true_old),100))\n",
        "\n",
        "X_valid_false_old = np.stack(df_valid['histo'][df_valid['labels']==False].values, axis=0)\n",
        "X_valid_false = np.reshape(X_valid_false_old, (len(X_valid_false_old), 102))[:, 1:-1]\n",
        "X_valid_false = np.reshape(X_valid_false, (len(X_valid_false_old),100))\n",
        "\n",
        "X_test_true_old = np.stack(df_test['histo'][df_test['labels']==True].values, axis=0)\n",
        "X_test_true = np.reshape(X_test_true_old, (len(X_test_true_old), 102))[:, 1:-1]\n",
        "X_test_true = np.reshape(X_test_true, (len(X_test_true_old),100))\n",
        "\n",
        "X_test_false_old = np.stack(df_test['histo'][df_test['labels']==False].values, axis=0)\n",
        "X_test_false = np.reshape(X_test_false_old, (len(X_test_false_old), 102))[:, 1:-1]\n",
        "X_test_false = np.reshape(X_test_false, (len(X_test_false_old),100))\n",
        "\n",
        "from sklearn.preprocessing import normalize\n",
        "\n",
        "X_train_true_norm=normalize(X_train_true, norm='l1', axis=1) #normalise the sample, i.e the rows\n",
        "X_train_false_norm=normalize(X_train_false, norm='l1', axis=1)\n",
        "\n",
        "X_valid_true_norm=normalize(X_valid_true, norm='l1', axis=1) #normalise the sample, i.e the rows\n",
        "X_valid_false_norm=normalize(X_valid_false, norm='l1', axis=1)\n",
        "\n",
        "X_test_true_norm=normalize(X_test_true, norm='l1', axis=1) #normalise the sample, i.e the rows\n",
        "X_test_false_norm=normalize(X_test_false, norm='l1', axis=1)\n",
        "\n",
        "\n",
        "print(X_train_true_old.shape)\n",
        "#print(len(X_train_true))\n",
        "#print(np.reshape(X_train_true[1:-1].shape)\n",
        "\n",
        "#print(X_train_true[25,-1])\n",
        "\n",
        "#print(X_train_true)\n",
        "print(df[\"histo\"].shape)\n",
        "print(X_train_true.shape)\n",
        "print(X_train_true_old.shape)\n",
        "print(X_test_true.shape)\n",
        "print(X_test_false.shape)"
      ],
      "execution_count": 139,
      "outputs": [
        {
          "output_type": "stream",
          "text": [
            "(145591, 102)\n",
            "(225954,)\n",
            "(145591, 100)\n",
            "(145591, 102)\n",
            "(40496, 100)\n",
            "(4695, 100)\n"
          ],
          "name": "stdout"
        }
      ]
    },
    {
      "cell_type": "code",
      "metadata": {
        "id": "rJklxfxE_He8",
        "colab_type": "code",
        "colab": {
          "base_uri": "https://localhost:8080/",
          "height": 330
        },
        "outputId": "8253e746-8bbb-4af7-e792-feceb4dd79c6"
      },
      "source": [
        "#build the model\n",
        "import math\n",
        "from keras.callbacks import ModelCheckpoint, EarlyStopping\n",
        "from keras.layers import Input, Dense\n",
        "from keras.layers.advanced_activations import PReLU\n",
        "from keras.models import Model\n",
        "from keras import backend as K\n",
        "import tensorflow as tf\n",
        "from keras.models import load_model\n",
        "\n",
        "def mseTop10(y_true, y_pred):\n",
        "    top_values, _ = tf.nn.top_k(K.square(y_pred - y_true), k=10, sorted=True)\n",
        "    mean=K.mean(top_values, axis=-1)\n",
        "    return mean\n",
        "\n",
        "nb_epoch = 100\n",
        "batch_size = 500\n",
        "input_dim = X_train_true_norm.shape[1] #num of predictor variables, \n",
        "encoding_dim = 20\n",
        "#hidden_dim = int(encoding_dim / 2)\n",
        "hidden_dim = 5\n",
        "learning_rate = 1e-3\n",
        "\n",
        "input_layer = Input(shape=(input_dim, ))\n",
        "encoder = Dense(encoding_dim, activation=\"tanh\")(input_layer)  #, activity_regularizer=regularizers.l1(learning_rate))(input_layer)\n",
        "#encoder = Dense(hidden_dim, activation=\"tanh\")(encoder)\n",
        "decoder = Dense(hidden_dim, activation=\"tanh\")(encoder)\n",
        "decoder = Dense(encoding_dim, activation=\"tanh\")(decoder)\n",
        "decoder = Dense(input_dim, activation=\"tanh\")(decoder)\n",
        "autoencoder = Model(inputs=input_layer, outputs=decoder)\n",
        "autoencoder.summary()"
      ],
      "execution_count": 140,
      "outputs": [
        {
          "output_type": "stream",
          "text": [
            "Model: \"model_3\"\n",
            "_________________________________________________________________\n",
            "Layer (type)                 Output Shape              Param #   \n",
            "=================================================================\n",
            "input_3 (InputLayer)         (None, 100)               0         \n",
            "_________________________________________________________________\n",
            "dense_9 (Dense)              (None, 20)                2020      \n",
            "_________________________________________________________________\n",
            "dense_10 (Dense)             (None, 5)                 105       \n",
            "_________________________________________________________________\n",
            "dense_11 (Dense)             (None, 20)                120       \n",
            "_________________________________________________________________\n",
            "dense_12 (Dense)             (None, 100)               2100      \n",
            "=================================================================\n",
            "Total params: 4,345\n",
            "Trainable params: 4,345\n",
            "Non-trainable params: 0\n",
            "_________________________________________________________________\n"
          ],
          "name": "stdout"
        }
      ]
    },
    {
      "cell_type": "code",
      "metadata": {
        "id": "-3x-HTLdCWaj",
        "colab_type": "code",
        "colab": {
          "base_uri": "https://localhost:8080/",
          "height": 1000
        },
        "outputId": "a359326c-6831-4292-e3b7-38ea65b2374c"
      },
      "source": [
        "autoencoder.compile(metrics=['accuracy'],\n",
        "                    loss=mseTop10,\n",
        "                    optimizer='adam')\n",
        "'''\n",
        "cp = ModelCheckpoint(filepath=\"/content/drive/My Drive/Colab Notebooks/autoencoder_classifier.h5\",\n",
        "                               save_best_only=True,\n",
        "                               verbose=0)\n",
        "tb = TensorBoard(log_dir='/content/drive/My Drive/Colab Notebooks/logs',\n",
        "                histogram_freq=0,\n",
        "                write_graph=True,\n",
        "                write_images=True)\n",
        "                '''\n",
        "history = autoencoder.fit(X_train_true_norm, X_train_true_norm,\n",
        "                    epochs=nb_epoch,\n",
        "                    batch_size=batch_size,\n",
        "                    shuffle=True,\n",
        "                    validation_data=(X_valid_true_norm, X_valid_true_norm),\n",
        "                    verbose=1,\n",
        " #                   callbacks=[cp, tb]).history\n",
        "                    ).history"
      ],
      "execution_count": 141,
      "outputs": [
        {
          "output_type": "stream",
          "text": [
            "Train on 145591 samples, validate on 16212 samples\n",
            "Epoch 1/100\n",
            "145591/145591 [==============================] - 2s 15us/step - loss: 7.3081e-05 - accuracy: 0.4251 - val_loss: 9.5168e-07 - val_accuracy: 0.4682\n",
            "Epoch 2/100\n",
            "145591/145591 [==============================] - 2s 15us/step - loss: 1.2640e-06 - accuracy: 0.4707 - val_loss: 1.0252e-06 - val_accuracy: 0.4647\n",
            "Epoch 3/100\n",
            "145591/145591 [==============================] - 2s 14us/step - loss: 1.2403e-06 - accuracy: 0.4680 - val_loss: 9.1766e-07 - val_accuracy: 0.4621\n",
            "Epoch 4/100\n",
            "145591/145591 [==============================] - 2s 14us/step - loss: 1.2163e-06 - accuracy: 0.4665 - val_loss: 8.9176e-07 - val_accuracy: 0.4582\n",
            "Epoch 5/100\n",
            "145591/145591 [==============================] - 2s 14us/step - loss: 1.1689e-06 - accuracy: 0.4628 - val_loss: 8.7069e-07 - val_accuracy: 0.4574\n",
            "Epoch 6/100\n",
            "145591/145591 [==============================] - 2s 15us/step - loss: 1.1388e-06 - accuracy: 0.4608 - val_loss: 9.1034e-07 - val_accuracy: 0.4517\n",
            "Epoch 7/100\n",
            "145591/145591 [==============================] - 2s 14us/step - loss: 1.1647e-06 - accuracy: 0.4557 - val_loss: 1.2281e-06 - val_accuracy: 0.4238\n",
            "Epoch 8/100\n",
            "145591/145591 [==============================] - 2s 15us/step - loss: 1.0390e-06 - accuracy: 0.4530 - val_loss: 7.7989e-07 - val_accuracy: 0.4446\n",
            "Epoch 9/100\n",
            "145591/145591 [==============================] - 2s 15us/step - loss: 9.4235e-07 - accuracy: 0.4539 - val_loss: 1.0651e-06 - val_accuracy: 0.4318\n",
            "Epoch 10/100\n",
            "145591/145591 [==============================] - 2s 14us/step - loss: 9.3132e-07 - accuracy: 0.4501 - val_loss: 7.0234e-07 - val_accuracy: 0.4481\n",
            "Epoch 11/100\n",
            "145591/145591 [==============================] - 2s 14us/step - loss: 8.0292e-07 - accuracy: 0.4535 - val_loss: 6.5925e-07 - val_accuracy: 0.4501\n",
            "Epoch 12/100\n",
            "145591/145591 [==============================] - 2s 15us/step - loss: 7.5185e-07 - accuracy: 0.4549 - val_loss: 6.3750e-07 - val_accuracy: 0.4504\n",
            "Epoch 13/100\n",
            "145591/145591 [==============================] - 2s 15us/step - loss: 1.2909e-06 - accuracy: 0.4386 - val_loss: 6.1494e-07 - val_accuracy: 0.4547\n",
            "Epoch 14/100\n",
            "145591/145591 [==============================] - 2s 15us/step - loss: 6.8029e-07 - accuracy: 0.4613 - val_loss: 6.0463e-07 - val_accuracy: 0.4578\n",
            "Epoch 15/100\n",
            "145591/145591 [==============================] - 2s 15us/step - loss: 6.8796e-07 - accuracy: 0.4596 - val_loss: 6.0316e-07 - val_accuracy: 0.4580\n",
            "Epoch 16/100\n",
            "145591/145591 [==============================] - 2s 14us/step - loss: 6.5899e-07 - accuracy: 0.4611 - val_loss: 6.0131e-07 - val_accuracy: 0.4577\n",
            "Epoch 17/100\n",
            "145591/145591 [==============================] - 2s 15us/step - loss: 6.4562e-07 - accuracy: 0.4606 - val_loss: 5.9590e-07 - val_accuracy: 0.4675\n",
            "Epoch 18/100\n",
            "145591/145591 [==============================] - 2s 14us/step - loss: 1.1450e-06 - accuracy: 0.4316 - val_loss: 5.8327e-07 - val_accuracy: 0.4669\n",
            "Epoch 19/100\n",
            "145591/145591 [==============================] - 2s 14us/step - loss: 6.2090e-07 - accuracy: 0.4581 - val_loss: 5.8834e-07 - val_accuracy: 0.4368\n",
            "Epoch 20/100\n",
            "145591/145591 [==============================] - 2s 14us/step - loss: 6.1196e-07 - accuracy: 0.4606 - val_loss: 5.7136e-07 - val_accuracy: 0.4629\n",
            "Epoch 21/100\n",
            "145591/145591 [==============================] - 2s 14us/step - loss: 6.1100e-07 - accuracy: 0.4595 - val_loss: 6.4096e-07 - val_accuracy: 0.4727\n",
            "Epoch 22/100\n",
            "145591/145591 [==============================] - 2s 14us/step - loss: 6.0907e-07 - accuracy: 0.4565 - val_loss: 1.0945e-06 - val_accuracy: 0.4309\n",
            "Epoch 23/100\n",
            "145591/145591 [==============================] - 2s 14us/step - loss: 1.1963e-06 - accuracy: 0.4280 - val_loss: 5.5186e-07 - val_accuracy: 0.4690\n",
            "Epoch 24/100\n",
            "145591/145591 [==============================] - 2s 14us/step - loss: 5.7845e-07 - accuracy: 0.4624 - val_loss: 5.4817e-07 - val_accuracy: 0.4435\n",
            "Epoch 25/100\n",
            "145591/145591 [==============================] - 2s 14us/step - loss: 5.8161e-07 - accuracy: 0.4568 - val_loss: 5.3767e-07 - val_accuracy: 0.4753\n",
            "Epoch 26/100\n",
            "145591/145591 [==============================] - 2s 14us/step - loss: 5.6239e-07 - accuracy: 0.4586 - val_loss: 5.2641e-07 - val_accuracy: 0.4624\n",
            "Epoch 27/100\n",
            "145591/145591 [==============================] - 2s 15us/step - loss: 5.5673e-07 - accuracy: 0.4668 - val_loss: 5.3726e-07 - val_accuracy: 0.4809\n",
            "Epoch 28/100\n",
            "145591/145591 [==============================] - 2s 14us/step - loss: 5.5696e-07 - accuracy: 0.4680 - val_loss: 5.3912e-07 - val_accuracy: 0.4819\n",
            "Epoch 29/100\n",
            "145591/145591 [==============================] - 2s 14us/step - loss: 6.0181e-07 - accuracy: 0.4600 - val_loss: 1.1735e-06 - val_accuracy: 0.3903\n",
            "Epoch 30/100\n",
            "145591/145591 [==============================] - 2s 14us/step - loss: 1.4999e-06 - accuracy: 0.4395 - val_loss: 5.1720e-07 - val_accuracy: 0.4856\n",
            "Epoch 31/100\n",
            "145591/145591 [==============================] - 2s 14us/step - loss: 5.2217e-07 - accuracy: 0.4799 - val_loss: 5.0813e-07 - val_accuracy: 0.4924\n",
            "Epoch 32/100\n",
            "145591/145591 [==============================] - 2s 15us/step - loss: 5.1732e-07 - accuracy: 0.4747 - val_loss: 5.1615e-07 - val_accuracy: 0.4694\n",
            "Epoch 33/100\n",
            "145591/145591 [==============================] - 2s 14us/step - loss: 5.2423e-07 - accuracy: 0.4648 - val_loss: 5.0798e-07 - val_accuracy: 0.4917\n",
            "Epoch 34/100\n",
            "145591/145591 [==============================] - 2s 14us/step - loss: 5.2452e-07 - accuracy: 0.4718 - val_loss: 5.5889e-07 - val_accuracy: 0.4384\n",
            "Epoch 35/100\n",
            "145591/145591 [==============================] - 2s 14us/step - loss: 5.3021e-07 - accuracy: 0.4728 - val_loss: 5.2208e-07 - val_accuracy: 0.4434\n",
            "Epoch 36/100\n",
            "145591/145591 [==============================] - 2s 14us/step - loss: 1.5573e-06 - accuracy: 0.4405 - val_loss: 5.1508e-07 - val_accuracy: 0.4362\n",
            "Epoch 37/100\n",
            "145591/145591 [==============================] - 2s 14us/step - loss: 5.2491e-07 - accuracy: 0.4813 - val_loss: 5.0989e-07 - val_accuracy: 0.4909\n",
            "Epoch 38/100\n",
            "145591/145591 [==============================] - 2s 14us/step - loss: 5.0500e-07 - accuracy: 0.4825 - val_loss: 4.9874e-07 - val_accuracy: 0.4521\n",
            "Epoch 39/100\n",
            "145591/145591 [==============================] - 2s 14us/step - loss: 4.9957e-07 - accuracy: 0.4864 - val_loss: 4.8865e-07 - val_accuracy: 0.4577\n",
            "Epoch 40/100\n",
            "145591/145591 [==============================] - 2s 14us/step - loss: 4.9834e-07 - accuracy: 0.4872 - val_loss: 4.8707e-07 - val_accuracy: 0.4778\n",
            "Epoch 41/100\n",
            "145591/145591 [==============================] - 2s 14us/step - loss: 5.3181e-07 - accuracy: 0.4744 - val_loss: 4.9342e-07 - val_accuracy: 0.4373\n",
            "Epoch 42/100\n",
            "145591/145591 [==============================] - 2s 15us/step - loss: 5.0372e-07 - accuracy: 0.4841 - val_loss: 4.9628e-07 - val_accuracy: 0.4838\n",
            "Epoch 43/100\n",
            "145591/145591 [==============================] - 2s 15us/step - loss: 6.4579e-07 - accuracy: 0.4750 - val_loss: 1.7579e-06 - val_accuracy: 0.4180\n",
            "Epoch 44/100\n",
            "145591/145591 [==============================] - 2s 16us/step - loss: 6.4161e-07 - accuracy: 0.4777 - val_loss: 4.8545e-07 - val_accuracy: 0.4991\n",
            "Epoch 45/100\n",
            "145591/145591 [==============================] - 2s 15us/step - loss: 4.8962e-07 - accuracy: 0.4934 - val_loss: 4.8090e-07 - val_accuracy: 0.5070\n",
            "Epoch 46/100\n",
            "145591/145591 [==============================] - 2s 16us/step - loss: 4.9168e-07 - accuracy: 0.4907 - val_loss: 4.8220e-07 - val_accuracy: 0.5020\n",
            "Epoch 47/100\n",
            "145591/145591 [==============================] - 2s 15us/step - loss: 1.2142e-06 - accuracy: 0.4446 - val_loss: 5.4616e-07 - val_accuracy: 0.4517\n",
            "Epoch 48/100\n",
            "145591/145591 [==============================] - 2s 14us/step - loss: 5.0127e-07 - accuracy: 0.4951 - val_loss: 4.8051e-07 - val_accuracy: 0.4547\n",
            "Epoch 49/100\n",
            "145591/145591 [==============================] - 2s 14us/step - loss: 5.0429e-07 - accuracy: 0.4967 - val_loss: 4.7904e-07 - val_accuracy: 0.4978\n",
            "Epoch 50/100\n",
            "145591/145591 [==============================] - 2s 14us/step - loss: 4.8291e-07 - accuracy: 0.5017 - val_loss: 4.7580e-07 - val_accuracy: 0.4834\n",
            "Epoch 51/100\n",
            "145591/145591 [==============================] - 2s 14us/step - loss: 4.8742e-07 - accuracy: 0.4985 - val_loss: 4.7119e-07 - val_accuracy: 0.4961\n",
            "Epoch 52/100\n",
            "145591/145591 [==============================] - 2s 14us/step - loss: 5.2131e-07 - accuracy: 0.4903 - val_loss: 5.0603e-07 - val_accuracy: 0.4969\n",
            "Epoch 53/100\n",
            "145591/145591 [==============================] - 2s 14us/step - loss: 4.9583e-07 - accuracy: 0.5001 - val_loss: 4.8510e-07 - val_accuracy: 0.5091\n",
            "Epoch 54/100\n",
            "145591/145591 [==============================] - 2s 15us/step - loss: 4.9107e-07 - accuracy: 0.4952 - val_loss: 4.7835e-07 - val_accuracy: 0.4802\n",
            "Epoch 55/100\n",
            "145591/145591 [==============================] - 2s 14us/step - loss: 5.8373e-07 - accuracy: 0.4831 - val_loss: 1.1894e-06 - val_accuracy: 0.4132\n",
            "Epoch 56/100\n",
            "145591/145591 [==============================] - 2s 14us/step - loss: 5.2308e-07 - accuracy: 0.4895 - val_loss: 4.6709e-07 - val_accuracy: 0.4399\n",
            "Epoch 57/100\n",
            "145591/145591 [==============================] - 2s 14us/step - loss: 4.7116e-07 - accuracy: 0.5040 - val_loss: 4.9200e-07 - val_accuracy: 0.5068\n",
            "Epoch 58/100\n",
            "145591/145591 [==============================] - 2s 14us/step - loss: 4.8519e-07 - accuracy: 0.5016 - val_loss: 4.7261e-07 - val_accuracy: 0.5082\n",
            "Epoch 59/100\n",
            "145591/145591 [==============================] - 2s 14us/step - loss: 7.6555e-07 - accuracy: 0.4567 - val_loss: 4.6420e-07 - val_accuracy: 0.4696\n",
            "Epoch 60/100\n",
            "145591/145591 [==============================] - 2s 14us/step - loss: 4.6485e-07 - accuracy: 0.5124 - val_loss: 4.7222e-07 - val_accuracy: 0.4860\n",
            "Epoch 61/100\n",
            "145591/145591 [==============================] - 2s 14us/step - loss: 4.6653e-07 - accuracy: 0.5079 - val_loss: 4.7811e-07 - val_accuracy: 0.5128\n",
            "Epoch 62/100\n",
            "145591/145591 [==============================] - 2s 14us/step - loss: 4.7475e-07 - accuracy: 0.5078 - val_loss: 4.6472e-07 - val_accuracy: 0.5021\n",
            "Epoch 63/100\n",
            "145591/145591 [==============================] - 2s 14us/step - loss: 1.0420e-06 - accuracy: 0.4578 - val_loss: 7.3250e-07 - val_accuracy: 0.4151\n",
            "Epoch 64/100\n",
            "145591/145591 [==============================] - 2s 14us/step - loss: 4.8465e-07 - accuracy: 0.5090 - val_loss: 4.6733e-07 - val_accuracy: 0.4774\n",
            "Epoch 65/100\n",
            "145591/145591 [==============================] - 2s 14us/step - loss: 4.6543e-07 - accuracy: 0.5112 - val_loss: 4.6680e-07 - val_accuracy: 0.4972\n",
            "Epoch 66/100\n",
            "145591/145591 [==============================] - 2s 14us/step - loss: 5.3221e-07 - accuracy: 0.4981 - val_loss: 4.6014e-07 - val_accuracy: 0.5163\n",
            "Epoch 67/100\n",
            "145591/145591 [==============================] - 2s 14us/step - loss: 4.6094e-07 - accuracy: 0.5113 - val_loss: 4.5716e-07 - val_accuracy: 0.5095\n",
            "Epoch 68/100\n",
            "145591/145591 [==============================] - 2s 14us/step - loss: 4.6319e-07 - accuracy: 0.5114 - val_loss: 4.8726e-07 - val_accuracy: 0.4942\n",
            "Epoch 69/100\n",
            "145591/145591 [==============================] - 2s 14us/step - loss: 6.2815e-07 - accuracy: 0.4811 - val_loss: 4.5929e-07 - val_accuracy: 0.5144\n",
            "Epoch 70/100\n",
            "145591/145591 [==============================] - 2s 14us/step - loss: 4.6065e-07 - accuracy: 0.5116 - val_loss: 4.6955e-07 - val_accuracy: 0.5001\n",
            "Epoch 71/100\n",
            "145591/145591 [==============================] - 2s 14us/step - loss: 4.6349e-07 - accuracy: 0.5100 - val_loss: 5.0082e-07 - val_accuracy: 0.4323\n",
            "Epoch 72/100\n",
            "145591/145591 [==============================] - 2s 14us/step - loss: 4.7557e-07 - accuracy: 0.5138 - val_loss: 1.0922e-06 - val_accuracy: 0.4935\n",
            "Epoch 73/100\n",
            "145591/145591 [==============================] - 2s 14us/step - loss: 6.3556e-07 - accuracy: 0.4858 - val_loss: 4.5276e-07 - val_accuracy: 0.5009\n",
            "Epoch 74/100\n",
            "145591/145591 [==============================] - 2s 14us/step - loss: 4.5504e-07 - accuracy: 0.5191 - val_loss: 4.8432e-07 - val_accuracy: 0.5089\n",
            "Epoch 75/100\n",
            "145591/145591 [==============================] - 2s 14us/step - loss: 5.6825e-07 - accuracy: 0.4942 - val_loss: 1.2406e-06 - val_accuracy: 0.4142\n",
            "Epoch 76/100\n",
            "145591/145591 [==============================] - 2s 14us/step - loss: 5.8778e-07 - accuracy: 0.4985 - val_loss: 4.4981e-07 - val_accuracy: 0.5173\n",
            "Epoch 77/100\n",
            "145591/145591 [==============================] - 2s 14us/step - loss: 4.5229e-07 - accuracy: 0.5222 - val_loss: 4.6312e-07 - val_accuracy: 0.4949\n",
            "Epoch 78/100\n",
            "145591/145591 [==============================] - 2s 14us/step - loss: 4.5832e-07 - accuracy: 0.5231 - val_loss: 4.5166e-07 - val_accuracy: 0.5229\n",
            "Epoch 79/100\n",
            "145591/145591 [==============================] - 2s 14us/step - loss: 4.9811e-07 - accuracy: 0.5108 - val_loss: 4.8720e-07 - val_accuracy: 0.5062\n",
            "Epoch 80/100\n",
            "145591/145591 [==============================] - 2s 14us/step - loss: 6.5786e-07 - accuracy: 0.4983 - val_loss: 4.6000e-07 - val_accuracy: 0.5039\n",
            "Epoch 81/100\n",
            "145591/145591 [==============================] - 2s 14us/step - loss: 4.5106e-07 - accuracy: 0.5267 - val_loss: 4.5674e-07 - val_accuracy: 0.5212\n",
            "Epoch 82/100\n",
            "145591/145591 [==============================] - 2s 14us/step - loss: 4.5466e-07 - accuracy: 0.5272 - val_loss: 4.5052e-07 - val_accuracy: 0.5268\n",
            "Epoch 83/100\n",
            "145591/145591 [==============================] - 2s 14us/step - loss: 4.5406e-07 - accuracy: 0.5230 - val_loss: 4.6827e-07 - val_accuracy: 0.4646\n",
            "Epoch 84/100\n",
            "145591/145591 [==============================] - 2s 14us/step - loss: 7.2176e-07 - accuracy: 0.4727 - val_loss: 4.5354e-07 - val_accuracy: 0.5262\n",
            "Epoch 85/100\n",
            "145591/145591 [==============================] - 2s 15us/step - loss: 4.5037e-07 - accuracy: 0.5253 - val_loss: 4.5054e-07 - val_accuracy: 0.5260\n",
            "Epoch 86/100\n",
            "145591/145591 [==============================] - 2s 14us/step - loss: 4.6359e-07 - accuracy: 0.5235 - val_loss: 4.5312e-07 - val_accuracy: 0.5221\n",
            "Epoch 87/100\n",
            "145591/145591 [==============================] - 2s 14us/step - loss: 6.0670e-07 - accuracy: 0.4997 - val_loss: 4.5408e-07 - val_accuracy: 0.4943\n",
            "Epoch 88/100\n",
            "145591/145591 [==============================] - 2s 15us/step - loss: 4.5042e-07 - accuracy: 0.5279 - val_loss: 4.5365e-07 - val_accuracy: 0.5037\n",
            "Epoch 89/100\n",
            "145591/145591 [==============================] - 2s 14us/step - loss: 4.4815e-07 - accuracy: 0.5299 - val_loss: 4.4903e-07 - val_accuracy: 0.5039\n",
            "Epoch 90/100\n",
            "145591/145591 [==============================] - 2s 14us/step - loss: 4.6611e-07 - accuracy: 0.5251 - val_loss: 5.3959e-07 - val_accuracy: 0.5257\n",
            "Epoch 91/100\n",
            "145591/145591 [==============================] - 2s 14us/step - loss: 5.4967e-07 - accuracy: 0.5126 - val_loss: 5.1354e-07 - val_accuracy: 0.5318\n",
            "Epoch 92/100\n",
            "145591/145591 [==============================] - 2s 14us/step - loss: 4.6309e-07 - accuracy: 0.5283 - val_loss: 4.5175e-07 - val_accuracy: 0.5061\n",
            "Epoch 93/100\n",
            "145591/145591 [==============================] - 2s 14us/step - loss: 4.5927e-07 - accuracy: 0.5269 - val_loss: 4.4650e-07 - val_accuracy: 0.5277\n",
            "Epoch 94/100\n",
            "145591/145591 [==============================] - 2s 15us/step - loss: 4.5384e-07 - accuracy: 0.5325 - val_loss: 4.7061e-07 - val_accuracy: 0.5354\n",
            "Epoch 95/100\n",
            "145591/145591 [==============================] - 2s 14us/step - loss: 7.4436e-07 - accuracy: 0.4914 - val_loss: 4.5241e-07 - val_accuracy: 0.5313\n",
            "Epoch 96/100\n",
            "145591/145591 [==============================] - 2s 14us/step - loss: 4.4527e-07 - accuracy: 0.5366 - val_loss: 4.4736e-07 - val_accuracy: 0.5278\n",
            "Epoch 97/100\n",
            "145591/145591 [==============================] - 2s 14us/step - loss: 4.4578e-07 - accuracy: 0.5353 - val_loss: 4.5347e-07 - val_accuracy: 0.5255\n",
            "Epoch 98/100\n",
            "145591/145591 [==============================] - 2s 14us/step - loss: 6.0915e-07 - accuracy: 0.5091 - val_loss: 4.5652e-07 - val_accuracy: 0.5334\n",
            "Epoch 99/100\n",
            "145591/145591 [==============================] - 2s 14us/step - loss: 4.4709e-07 - accuracy: 0.5372 - val_loss: 5.1189e-07 - val_accuracy: 0.5295\n",
            "Epoch 100/100\n",
            "145591/145591 [==============================] - 2s 14us/step - loss: 4.8566e-07 - accuracy: 0.5309 - val_loss: 4.5330e-07 - val_accuracy: 0.5224\n"
          ],
          "name": "stdout"
        }
      ]
    },
    {
      "cell_type": "code",
      "metadata": {
        "id": "EVHpt9H6H8yZ",
        "colab_type": "code",
        "colab": {
          "base_uri": "https://localhost:8080/",
          "height": 54
        },
        "outputId": "13fe6c37-183f-496a-eef5-847d9b4b89f2"
      },
      "source": [
        "print(history)"
      ],
      "execution_count": 142,
      "outputs": [
        {
          "output_type": "stream",
          "text": [
            "{'val_loss': [9.516773263175364e-07, 1.0252143567854163e-06, 9.176554587860323e-07, 8.917592170011479e-07, 8.706918969572852e-07, 9.103443759220995e-07, 1.2280789618525096e-06, 7.798918930506435e-07, 1.0651281496170664e-06, 7.023420550319234e-07, 6.592529177438912e-07, 6.375014446021183e-07, 6.149367398542113e-07, 6.046294900868075e-07, 6.031642163324603e-07, 6.01313366220693e-07, 5.958961159640134e-07, 5.832690458317456e-07, 5.883428173877799e-07, 5.713575400036171e-07, 6.409635534476356e-07, 1.0945350003062773e-06, 5.518618415096548e-07, 5.481704359406314e-07, 5.376700003079732e-07, 5.264092582542093e-07, 5.372635849330058e-07, 5.39115256181829e-07, 1.1735446856365968e-06, 5.172025964432396e-07, 5.081321169900367e-07, 5.161452035595672e-07, 5.079824239698235e-07, 5.588931773977771e-07, 5.220816570810515e-07, 5.150782562270434e-07, 5.098908897322517e-07, 4.987421565343887e-07, 4.886465267369902e-07, 4.870662919154674e-07, 4.934160648609816e-07, 4.962757332966893e-07, 1.7578790175298606e-06, 4.85452344612828e-07, 4.809041969070751e-07, 4.821978723782888e-07, 5.461628379064393e-07, 4.805143814162802e-07, 4.790375995203431e-07, 4.758039819342395e-07, 4.7119369618807074e-07, 5.060259136182257e-07, 4.851004758558164e-07, 4.783459961828686e-07, 1.1893841778774324e-06, 4.670856032259561e-07, 4.919968036803238e-07, 4.7260673671696946e-07, 4.6419526526931907e-07, 4.722225825600102e-07, 4.781108053241675e-07, 4.6472019104511033e-07, 7.325037469974408e-07, 4.6733002082481756e-07, 4.668012510215915e-07, 4.6014359119562675e-07, 4.5715768602292497e-07, 4.872648802266547e-07, 4.592940334120727e-07, 4.695503266939614e-07, 5.008220436612957e-07, 1.0922093959026502e-06, 4.5275975064893024e-07, 4.843218322919571e-07, 1.2405537135643793e-06, 4.498070756017361e-07, 4.6312234403428097e-07, 4.5165642092669364e-07, 4.872005756848116e-07, 4.600048634574447e-07, 4.567428118549528e-07, 4.5052022095403115e-07, 4.682725948620617e-07, 4.5353531266976373e-07, 4.505387891450163e-07, 4.5312098616492086e-07, 4.540768363241492e-07, 4.536516637499721e-07, 4.490326955958293e-07, 5.395850687567789e-07, 5.135396559349933e-07, 4.517531465325336e-07, 4.4649858263852194e-07, 4.7061478931831997e-07, 4.524136559518778e-07, 4.4736430735378365e-07, 4.5346508929465976e-07, 4.565166819606383e-07, 5.118930530769824e-07, 4.5330072130366505e-07], 'val_accuracy': [0.4682334065437317, 0.4647175073623657, 0.46212682127952576, 0.458240807056427, 0.45743894577026367, 0.45170244574546814, 0.42376017570495605, 0.4446089267730713, 0.4317789375782013, 0.44812485575675964, 0.4500986933708191, 0.45040711760520935, 0.4546632170677185, 0.4578090310096741, 0.4579940736293793, 0.45774734020233154, 0.4674932062625885, 0.4669380784034729, 0.4368368983268738, 0.46286702156066895, 0.4727362394332886, 0.43091538548469543, 0.469035267829895, 0.4434986412525177, 0.475265234708786, 0.462435245513916, 0.480940043926239, 0.48192697763442993, 0.390266478061676, 0.48556625843048096, 0.4924130141735077, 0.4694053828716278, 0.4916728436946869, 0.4384406507015228, 0.44337528944015503, 0.4361583888530731, 0.4909326434135437, 0.45207253098487854, 0.45774734020233154, 0.47779422998428345, 0.4372687041759491, 0.48383912444114685, 0.4179620146751404, 0.4990747570991516, 0.5069701671600342, 0.5019738674163818, 0.45170244574546814, 0.4546632170677185, 0.4977794289588928, 0.4834073483943939, 0.49611398577690125, 0.49691587686538696, 0.5090673565864563, 0.4801998436450958, 0.41315075755119324, 0.4399210512638092, 0.5068467855453491, 0.5082038044929504, 0.469590425491333, 0.4859980344772339, 0.5127683281898499, 0.5020971894264221, 0.4151245951652527, 0.47742414474487305, 0.49722427129745483, 0.5163459181785583, 0.5094991326332092, 0.4942018389701843, 0.514433741569519, 0.5000616908073425, 0.4323340654373169, 0.49352332949638367, 0.5008635520935059, 0.5089439749717712, 0.4141993522644043, 0.5172711610794067, 0.494880348443985, 0.5228843092918396, 0.5061682462692261, 0.5038859844207764, 0.5211571455001831, 0.526770293712616, 0.46459412574768066, 0.526215136051178, 0.5259684324264526, 0.522144079208374, 0.49426349997520447, 0.5037009716033936, 0.5039476752281189, 0.52565997838974, 0.5318282842636108, 0.5061066150665283, 0.5276955366134644, 0.5354058742523193, 0.5312731266021729, 0.5278189182281494, 0.5255366563796997, 0.533370316028595, 0.5295460224151611, 0.5223908424377441], 'loss': [7.308059089146866e-05, 1.2639630051885523e-06, 1.2403188057687446e-06, 1.2163083272889728e-06, 1.1688770908988577e-06, 1.1387528642734916e-06, 1.1646610747281632e-06, 1.0390086391365667e-06, 9.423456250119393e-07, 9.31319702624493e-07, 8.029161851489261e-07, 7.518537451624285e-07, 1.2908589114122254e-06, 6.802902503112249e-07, 6.879641568662662e-07, 6.589859583087539e-07, 6.456248474666379e-07, 1.1449702490814183e-06, 6.20904275439678e-07, 6.119600710450332e-07, 6.10997694364206e-07, 6.090710436084999e-07, 1.1963284995049922e-06, 5.784511561533157e-07, 5.816072003989752e-07, 5.623862093491514e-07, 5.567273112474906e-07, 5.56964344578831e-07, 6.018138305000683e-07, 1.4998744137745738e-06, 5.221738831785061e-07, 5.173237980171172e-07, 5.242291208254309e-07, 5.245240211060229e-07, 5.302137611089025e-07, 1.5572591280475383e-06, 5.249091460872915e-07, 5.050010632792232e-07, 4.995730096422896e-07, 4.983407623226963e-07, 5.318091067028664e-07, 5.037192672496721e-07, 6.457926605128456e-07, 6.416138291128531e-07, 4.896225040686685e-07, 4.916803814790498e-07, 1.2142109263212211e-06, 5.012679170206468e-07, 5.042931461933803e-07, 4.829090755777638e-07, 4.874238044695713e-07, 5.213089947829774e-07, 4.958251362063847e-07, 4.910732968717e-07, 5.837264580763083e-07, 5.230791192881631e-07, 4.7116139277669725e-07, 4.851907378296574e-07, 7.65552751898548e-07, 4.648497150054434e-07, 4.665317787276862e-07, 4.747488453808664e-07, 1.042048576727336e-06, 4.846455496322737e-07, 4.654275559492284e-07, 5.322132057933207e-07, 4.6094219258464576e-07, 4.6319031859822294e-07, 6.28148035040365e-07, 4.6064957414364353e-07, 4.6349311117060063e-07, 4.7556838601377226e-07, 6.355598502099011e-07, 4.5504233464810427e-07, 5.682450598892643e-07, 5.877826570670286e-07, 4.5228563154557394e-07, 4.583183482653286e-07, 4.981135242937564e-07, 6.578554963510893e-07, 4.510641937208042e-07, 4.546616732647645e-07, 4.5406330684787173e-07, 7.217605334073727e-07, 4.503711906963858e-07, 4.6359348436296825e-07, 6.066955089928415e-07, 4.504241966021438e-07, 4.4815245593092787e-07, 4.661116890555638e-07, 5.49674244792623e-07, 4.630922033578251e-07, 4.592713605046575e-07, 4.538366332336206e-07, 7.443639089317108e-07, 4.452714070414448e-07, 4.457796372014931e-07, 6.091503531645628e-07, 4.470943790360729e-07, 4.856635948876079e-07], 'accuracy': [0.42507434, 0.47069532, 0.4679616, 0.46649176, 0.462769, 0.4607565, 0.45571497, 0.45296755, 0.45390168, 0.45013085, 0.4534827, 0.4549457, 0.43863976, 0.46128538, 0.45963693, 0.46109992, 0.460626, 0.4316132, 0.45809838, 0.46059853, 0.4594721, 0.4565186, 0.42799348, 0.46235687, 0.45679334, 0.45862037, 0.4668077, 0.4679616, 0.4599941, 0.43949145, 0.47989917, 0.47468594, 0.46480894, 0.47179428, 0.47284517, 0.4404668, 0.48125228, 0.4824886, 0.48639682, 0.48722792, 0.4743906, 0.4841302, 0.47496754, 0.47772184, 0.49338216, 0.49071714, 0.44462913, 0.4950512, 0.49674088, 0.50172746, 0.49854043, 0.4903325, 0.5001408, 0.49521604, 0.48308617, 0.489522, 0.5040215, 0.501645, 0.45673153, 0.51242864, 0.5078748, 0.50781983, 0.45782363, 0.50902873, 0.51120603, 0.4980871, 0.5112816, 0.5113503, 0.48105308, 0.51157695, 0.50997657, 0.51378864, 0.48581988, 0.5190843, 0.4942476, 0.49853358, 0.52220947, 0.5230681, 0.5108352, 0.49833438, 0.5266603, 0.5272235, 0.5230337, 0.47272152, 0.52529347, 0.52347326, 0.49972868, 0.5278898, 0.52992976, 0.5250531, 0.51262784, 0.5282744, 0.5269488, 0.53245735, 0.4914452, 0.5365716, 0.535349, 0.5090768, 0.53724474, 0.53088444]}\n"
          ],
          "name": "stdout"
        }
      ]
    },
    {
      "cell_type": "code",
      "metadata": {
        "id": "TB5sxIBPFOOa",
        "colab_type": "code",
        "colab": {
          "base_uri": "https://localhost:8080/",
          "height": 410
        },
        "outputId": "b2f0c7e4-5eff-4dd8-cfe7-24c4db8f423a"
      },
      "source": [
        "#print(history)\n",
        "\n",
        "line_styles = [(0, ()), (0, (1, 3)), (0, (3, 2))]\n",
        "\n",
        "color_palette = {\"Indigo\": {\n",
        "                    50: \"#E8EAF6\",\n",
        "                    100: \"#C5CAE9\",\n",
        "                    200: \"#9FA8DA\",\n",
        "                    300: \"#7986CB\",\n",
        "                    400: \"#5C6BC0\",\n",
        "                    500: \"#3F51B5\",\n",
        "                    600: \"#3949AB\",\n",
        "                    700: \"#303F9F\",\n",
        "                    800: \"#283593\",\n",
        "                    900: \"#1A237E\"},\n",
        "                 \"Teal\": {      \n",
        "                    50: \"#E0F2F1\",\n",
        "                    100: \"#B2DFDB\",\n",
        "                    200: \"#80CBC4\",\n",
        "                    300: \"#4DB6AC\",\n",
        "                    400: \"#26A69A\",\n",
        "                    500: \"#009688\",\n",
        "                    600: \"#00897B\",\n",
        "                    700: \"#00796B\",\n",
        "                    800: \"#00695C\",\n",
        "                    900: \"#004D40\"}\n",
        "                }\n",
        "\n",
        "# \"Loss\"\n",
        "plt.figure(1)\n",
        "plt.plot(history['loss'])\n",
        "plt.plot(history['val_loss'])\n",
        "plt.title('model loss')\n",
        "plt.ylabel('loss')\n",
        "plt.xlabel('epoch')\n",
        "plt.legend(['train', 'validation'], loc='upper left')\n",
        "plt.yscale(\"log\")\n",
        "#plt.xlim(0,100)\n",
        "plt.show()\n",
        "\n",
        "#plot_loss(history, \"Original model loss\")"
      ],
      "execution_count": 143,
      "outputs": [
        {
          "output_type": "display_data",
          "data": {
            "image/png": "[encoded data removed]",
            "text/plain": [
              "<Figure size 720x432 with 1 Axes>"
            ]
          },
          "metadata": {
            "tags": []
          }
        }
      ]
    },
    {
      "cell_type": "code",
      "metadata": {
        "id": "iAYAbb4rz3VG",
        "colab_type": "code",
        "colab": {}
      },
      "source": [
        "from sklearn.metrics import confusion_matrix, precision_recall_curve\n",
        "from sklearn.metrics import recall_score, classification_report, auc, roc_curve\n",
        "from sklearn.metrics import precision_recall_fscore_support, f1_score\n",
        "from numpy import sqrt\n",
        "from numpy import argmax\n",
        "import seaborn as sns\n",
        "\n",
        "#Details of Reconstruction error for Test dataset\n",
        "# df must have two columns : 'histo' & 'type' as described above\n",
        "# 'true class' of column 'type' will help to classify '1' (Positive) for Anomaly and '0' (Negative) for Good, to draw ROC & P-R curves\n",
        "def Skill_of_Classifier(df) :\n",
        "  X_all_old = np.stack(df['histo'].values, axis=0)\n",
        "  X_all = np.reshape(X_all_old, (len(X_all_old), 102))[:, 1:-1]\n",
        "  X_all = np.reshape(X_all, (len(X_all_old),100))\n",
        "  X_all_norm=normalize(X_all, norm='l1', axis=1)\n",
        "  x_predictions = autoencoder.predict(X_all_norm)\n",
        "  mse=K.eval(mseTop10(X_all_norm, x_predictions))\n",
        "  print(mse)\n",
        "  error_df = pd.DataFrame({'reconstruction_error': mse,'true_class': df['type']})\n",
        "  print(error_df.describe())\n",
        "  \n",
        "  # Plot ROC curve and calculate g-mean to find the best point of ROC curve\n",
        "  fpr, tpr, thresholds = roc_curve(error_df.true_class, error_df.reconstruction_error)\n",
        "  roc_auc = auc(fpr, tpr)\n",
        "  # calculate the g-mean for each threshold\n",
        "  gmeans = sqrt(tpr * (1-fpr))\n",
        "  # locate the index of the largest g-mean\n",
        "  ix = argmax(gmeans)\n",
        "  print('Best Threshold=%f, G-Mean=%.3f' % (thresholds[ix], gmeans[ix]))\n",
        "  fig = plt.figure(1)\n",
        "  plt.title('Receiver Operating Characteristic')\n",
        "  plt.plot(fpr, tpr, label='AUC = %0.4f'% roc_auc)\n",
        "  plt.legend(loc='lower right')\n",
        "  plt.plot([0,1],[0,1],'r--')\n",
        "  plt.scatter(fpr[ix], tpr[ix], marker='o', color='black', label='Best')\n",
        "  plt.xlim([-0.001, 1])\n",
        "  plt.ylim([0, 1.001])\n",
        "  plt.ylabel('True Positive Rate')\n",
        "  plt.xlabel('False Positive Rate')\n",
        "  \n",
        "  # Plot PR curve and calculate f-score to find the best point of ROC curve\n",
        "  precision, recall, th = precision_recall_curve(error_df.true_class, error_df.reconstruction_error)\n",
        "  auc_PR = auc(recall, precision)\n",
        "  # convert to f score\n",
        "  fscore = (2 * precision * recall) / (precision + recall)\n",
        "  # locate the index of the largest f1 score\n",
        "  ix = argmax(fscore)\n",
        "  print('Best Threshold=%f, F-Score=%.3f' % (th[ix], fscore[ix]))\n",
        "  plt.figure(2)\n",
        "  plt.plot(recall, precision, 'b', label='AUC = %0.4f'% auc_PR)\n",
        "  plt.legend(loc='upper right')\n",
        "  plt.scatter(recall[ix], precision[ix], marker='o', color='black', label='Best')\n",
        "  plt.title('Recall vs Precision')\n",
        "  plt.xlabel('Recall')\n",
        "  plt.ylabel('Precision')\n",
        "  \n",
        "  # Plot Precision and recall for different threshold values for to get the ideal threshold\n",
        "  plt.figure(3)\n",
        "  plt.plot(th, precision[1:], label=\"Precision\",linewidth=5)\n",
        "  plt.plot(th, recall[1:], label=\"Recall\",linewidth=5)\n",
        "  plt.legend(loc='right')\n",
        "  plt.title('Precision and recall for different threshold values')\n",
        "  plt.xlabel('Threshold')\n",
        "  plt.ylabel('Precision/Recall')\n",
        "\n",
        "  # Confusion Matrix to get the Actual Class vs Predicted Class\n",
        "  threshold = th[ix] # Using threshold of PR curve\n",
        "  #threshold = 0.0000012\n",
        "  LABELS = ['Good', 'Anomaly']\n",
        "  y_pred = [1 if e > threshold else 0 for e in error_df.reconstruction_error.values]\n",
        "  conf_matrix = confusion_matrix(error_df.true_class, y_pred)\n",
        "  plt.figure(4)\n",
        "  #sns.set(font_scale=2.5)\n",
        "  sns.heatmap(conf_matrix, xticklabels=LABELS, yticklabels=LABELS, annot=True, fmt=\"d\");\n",
        "  plt.title(\"Confusion matrix for Test, th = %f\" % (th[ix]))\n",
        "  plt.ylabel('True class')\n",
        "  plt.xlabel('Predicted class')\n",
        "  plt.show()\n"
      ],
      "execution_count": 144,
      "outputs": []
    },
    {
      "cell_type": "code",
      "metadata": {
        "id": "Gmz0MogC1eVo",
        "colab_type": "code",
        "colab": {
          "base_uri": "https://localhost:8080/",
          "height": 1000
        },
        "outputId": "bb1683b7-cf23-40d9-ee72-5cf1624b3cf0"
      },
      "source": [
        "Skill_of_Classifier(df_test)"
      ],
      "execution_count": 106,
      "outputs": [
        {
          "output_type": "stream",
          "text": [
            "[2.95347497e-07 3.06253392e-07 1.67588735e-07 ... 3.57031962e-07\n",
            " 2.37343780e-07 1.72083498e-07]\n",
            "       reconstruction_error    true_class\n",
            "count          4.519100e+04  45191.000000\n",
            "mean           5.313007e-06      0.103892\n",
            "std            4.839338e-04      0.305124\n",
            "min            5.556812e-08      0.000000\n",
            "25%            2.204075e-07      0.000000\n",
            "50%            3.052181e-07      0.000000\n",
            "75%            4.606251e-07      0.000000\n",
            "max            7.947958e-02      1.000000\n",
            "Best Threshold=0.000001, G-Mean=0.759\n",
            "Best Threshold=0.000002, F-Score=0.690\n"
          ],
          "name": "stdout"
        },
        {
          "output_type": "display_data",
          "data": {
            "image/png": "[encoded data removed]",
            "text/plain": [
              "<Figure size 1008x720 with 1 Axes>"
            ]
          },
          "metadata": {
            "tags": []
          }
        },
        {
          "output_type": "display_data",
          "data": {
            "image/png": "[encoded data removed]",
            "text/plain": [
              "<Figure size 1008x720 with 1 Axes>"
            ]
          },
          "metadata": {
            "tags": []
          }
        },
        {
          "output_type": "display_data",
          "data": {
            "image/png": "[encoded data removed]",
            "text/plain": [
              "<Figure size 1008x720 with 1 Axes>"
            ]
          },
          "metadata": {
            "tags": []
          }
        },
        {
          "output_type": "display_data",
          "data": {
            "image/png": "[encoded data removed]",
            "text/plain": [
              "<Figure size 1008x720 with 2 Axes>"
            ]
          },
          "metadata": {
            "tags": []
          }
        }
      ]
    },
    {
      "cell_type": "code",
      "metadata": {
        "id": "1RZMgenY7ceb",
        "colab_type": "code",
        "colab": {
          "base_uri": "https://localhost:8080/",
          "height": 543
        },
        "outputId": "94b814bf-2c8d-49db-d3e6-170618867b58"
      },
      "source": [
        "X_test_all_old = np.stack(df_test['histo'].values, axis=0)\n",
        "X_test_all = np.reshape(X_test_all_old, (len(X_test_all_old), 102))[:, 1:-1]\n",
        "X_test_all = np.reshape(X_test_all, (len(X_test_all_old),100))\n",
        "X_test_all_norm=normalize(X_test_all, norm='l1', axis=1)\n",
        "\n",
        "df_test['origin']=''\n",
        "df_test['origin']=X_test_all_norm.tolist()\n",
        "\n",
        "test_x_predictions = autoencoder.predict(X_test_all_norm)\n",
        "#mse = np.mean(np.power(df_valid_x_rescaled - valid_x_predictions, 2), axis=1)finaloutput\n",
        "mse_test=K.eval(mseTop10(X_test_all_norm, test_x_predictions))\n",
        "print(mse_test)\n",
        "error_df_test = pd.DataFrame({'reconstruction_error': mse_test,\n",
        "                        'true_class': df_test['type']})\n",
        "error_df_test.describe()"
      ],
      "execution_count": 13,
      "outputs": [
        {
          "output_type": "stream",
          "text": [
            "/usr/local/lib/python3.6/dist-packages/ipykernel_launcher.py:6: SettingWithCopyWarning: \n",
            "A value is trying to be set on a copy of a slice from a DataFrame.\n",
            "Try using .loc[row_indexer,col_indexer] = value instead\n",
            "\n",
            "See the caveats in the documentation: https://pandas.pydata.org/pandas-docs/stable/user_guide/indexing.html#returning-a-view-versus-a-copy\n",
            "  \n",
            "/usr/local/lib/python3.6/dist-packages/ipykernel_launcher.py:7: SettingWithCopyWarning: \n",
            "A value is trying to be set on a copy of a slice from a DataFrame.\n",
            "Try using .loc[row_indexer,col_indexer] = value instead\n",
            "\n",
            "See the caveats in the documentation: https://pandas.pydata.org/pandas-docs/stable/user_guide/indexing.html#returning-a-view-versus-a-copy\n",
            "  import sys\n"
          ],
          "name": "stderr"
        },
        {
          "output_type": "stream",
          "text": [
            "[2.95347497e-07 3.06253392e-07 1.67588735e-07 ... 3.57031962e-07\n",
            " 2.37343780e-07 1.72083498e-07]\n"
          ],
          "name": "stdout"
        },
        {
          "output_type": "execute_result",
          "data": {
            "text/html": [
              "<div>\n",
              "<style scoped>\n",
              "    .dataframe tbody tr th:only-of-type {\n",
              "        vertical-align: middle;\n",
              "    }\n",
              "\n",
              "    .dataframe tbody tr th {\n",
              "        vertical-align: top;\n",
              "    }\n",
              "\n",
              "    .dataframe thead th {\n",
              "        text-align: right;\n",
              "    }\n",
              "</style>\n",
              "<table border=\"1\" class=\"dataframe\">\n",
              "  <thead>\n",
              "    <tr style=\"text-align: right;\">\n",
              "      <th></th>\n",
              "      <th>reconstruction_error</th>\n",
              "      <th>true_class</th>\n",
              "    </tr>\n",
              "  </thead>\n",
              "  <tbody>\n",
              "    <tr>\n",
              "      <th>count</th>\n",
              "      <td>4.519100e+04</td>\n",
              "      <td>45191.000000</td>\n",
              "    </tr>\n",
              "    <tr>\n",
              "      <th>mean</th>\n",
              "      <td>5.313007e-06</td>\n",
              "      <td>0.103892</td>\n",
              "    </tr>\n",
              "    <tr>\n",
              "      <th>std</th>\n",
              "      <td>4.839338e-04</td>\n",
              "      <td>0.305124</td>\n",
              "    </tr>\n",
              "    <tr>\n",
              "      <th>min</th>\n",
              "      <td>5.556812e-08</td>\n",
              "      <td>0.000000</td>\n",
              "    </tr>\n",
              "    <tr>\n",
              "      <th>25%</th>\n",
              "      <td>2.204075e-07</td>\n",
              "      <td>0.000000</td>\n",
              "    </tr>\n",
              "    <tr>\n",
              "      <th>50%</th>\n",
              "      <td>3.052181e-07</td>\n",
              "      <td>0.000000</td>\n",
              "    </tr>\n",
              "    <tr>\n",
              "      <th>75%</th>\n",
              "      <td>4.606251e-07</td>\n",
              "      <td>0.000000</td>\n",
              "    </tr>\n",
              "    <tr>\n",
              "      <th>max</th>\n",
              "      <td>7.947958e-02</td>\n",
              "      <td>1.000000</td>\n",
              "    </tr>\n",
              "  </tbody>\n",
              "</table>\n",
              "</div>"
            ],
            "text/plain": [
              "       reconstruction_error    true_class\n",
              "count          4.519100e+04  45191.000000\n",
              "mean           5.313007e-06      0.103892\n",
              "std            4.839338e-04      0.305124\n",
              "min            5.556812e-08      0.000000\n",
              "25%            2.204075e-07      0.000000\n",
              "50%            3.052181e-07      0.000000\n",
              "75%            4.606251e-07      0.000000\n",
              "max            7.947958e-02      1.000000"
            ]
          },
          "metadata": {
            "tags": []
          },
          "execution_count": 13
        }
      ]
    },
    {
      "cell_type": "code",
      "metadata": {
        "id": "Uq9YoFZH-x58",
        "colab_type": "code",
        "colab": {
          "base_uri": "https://localhost:8080/",
          "height": 502
        },
        "outputId": "bbbb7e76-68bb-4d58-f4fa-570d73511072"
      },
      "source": [
        "rcParams['figure.figsize'] = 14, 8\n",
        "sns.set(font_scale=1)\n",
        "'''\n",
        "# reconstruction error for the normal transactions in the testing dataset\n",
        "fig = plt.figure(1)\n",
        "ax = fig.add_subplot(111)\n",
        "Anomaly_error_df_valid = error_df_valid[(error_df_valid['true_class']== True)]\n",
        "Golden_error_df_valid = error_df_valid[(error_df_valid['true_class']== False)]\n",
        "ax.hist(Golden_error_df_valid.reconstruction_error.values, bins=1000, range=(0., 0.0002), color = 'yellow', ls='dashed',  alpha = 1.0, lw=3, log=True)\n",
        "ax.hist(Anomaly_error_df_valid.reconstruction_error.values, bins=1000, range=(0., 0.0002), color = 'red', ls='dashed',  alpha = 0.3, lw=3, log=True)\n",
        "#ax.set_alpha(0.9)\n",
        "plt.show()\n",
        "'''\n",
        "# reconstruction error for the normal transactions in the testing dataset\n",
        "#rcParams['figure.figsize'] = 10, 8\n",
        "#Anomaly_error_df_train = error_df_train[(error_df_train['true_class']== True)]\n",
        "#Golden_error_df_train = error_df_train[(error_df_train['true_class']== False)]\n",
        "#Anomaly_error_df_valid = error_df_valid[(error_df_valid['true_class']== True)]\n",
        "#Golden_error_df_valid = error_df_valid[(error_df_valid['true_class']== False)]\n",
        "Anomaly_error_df_test = error_df_test[(error_df_test['true_class']== True)]\n",
        "Golden_error_df_test = error_df_test[(error_df_test['true_class']== False)]\n",
        "fig = plt.figure(1)\n",
        "#ax = fig.add_subplot(131)\n",
        "#ax = fig.add_subplot()\n",
        "#ax.hist(Golden_error_df_train.reconstruction_error.values, bins=100, range=(0., 0.0010), color = 'yellow', label= 'Train : Golden', ls='dashed',  alpha = 1.0, lw=3, log=True)\n",
        "#ax.hist(Anomaly_error_df_train.reconstruction_error.values, bins=100, range=(0., 0.0010), color = 'red', label= 'Train : Bad', ls='dashed',  alpha = 0.3, lw=3, log=True)\n",
        "#ax.set_xlabel('Reconstruction_error for Train dataset')\n",
        "#plt.legend(['Golden', 'Bad'], loc='upper right')\n",
        "#fig = plt.figure(2)\n",
        "#ax = fig.add_subplot(132)\n",
        "#ax = fig.add_subplot()\n",
        "#ax.hist(Golden_error_df_valid.reconstruction_error.values, bins=100, range=(0., 0.0010), color = 'yellow', label= 'validation : Golden', ls='dashed',  alpha = 1.0, lw=3, log=True)\n",
        "#ax.hist(Anomaly_error_df_valid.reconstruction_error.values, bins=100, range=(0., 0.0010), color = 'red', label= 'Validation : Bad', ls='dashed',  alpha = 0.3, lw=3, log=True)\n",
        "#ax.set_xlabel('Reconstruction_error for Validation dataset')\n",
        "#plt.legend(['Golden', 'Bad'], loc='upper right')\n",
        "#fig = plt.figure(3)\n",
        "#ax = fig.add_subplot(133)\n",
        "ax = fig.add_subplot()\n",
        "ax.hist(Golden_error_df_test.reconstruction_error.values, bins=100, range=(0., 0.0010), color = 'yellow', label= 'Test : Golden',  alpha = 1.0, lw=3, log=True)\n",
        "ax.hist(Anomaly_error_df_test.reconstruction_error.values, bins=100, range=(0., 0.0010), color = 'red', label= 'Test : Bad',  alpha = 0.3, lw=3, log=True)\n",
        "ax.set_xlabel('Reconstruction_error for Test dataset')\n",
        "#ax.set_alpha(0.9)\n",
        "#plt.tight_layout()\n",
        "plt.legend(['Golden', 'Bad'], loc='upper right')\n",
        "plt.show()\n"
      ],
      "execution_count": 14,
      "outputs": [
        {
          "output_type": "display_data",
          "data": {
            "image/png": "[encoded data removed]",
            "text/plain": [
              "<Figure size 1008x576 with 1 Axes>"
            ]
          },
          "metadata": {
            "tags": []
          }
        }
      ]
    },
    {
      "cell_type": "code",
      "metadata": {
        "id": "ElvW6c1K7QZG",
        "colab_type": "code",
        "colab": {
          "base_uri": "https://localhost:8080/",
          "height": 434
        },
        "outputId": "33dd6ed8-3054-4917-a7ff-07257dbf8495"
      },
      "source": [
        "df_test['origin']=''\n",
        "df_test['origin']=X_test_all_norm.tolist()\n",
        "df_test['prediction2']=test_x_predictions.tolist()\n",
        "df_test['mse2']=mse_test\n",
        "#print(df_test.head())"
      ],
      "execution_count": 15,
      "outputs": [
        {
          "output_type": "stream",
          "text": [
            "/usr/local/lib/python3.6/dist-packages/ipykernel_launcher.py:1: SettingWithCopyWarning: \n",
            "A value is trying to be set on a copy of a slice from a DataFrame.\n",
            "Try using .loc[row_indexer,col_indexer] = value instead\n",
            "\n",
            "See the caveats in the documentation: https://pandas.pydata.org/pandas-docs/stable/user_guide/indexing.html#returning-a-view-versus-a-copy\n",
            "  \"\"\"Entry point for launching an IPython kernel.\n",
            "/usr/local/lib/python3.6/dist-packages/ipykernel_launcher.py:2: SettingWithCopyWarning: \n",
            "A value is trying to be set on a copy of a slice from a DataFrame.\n",
            "Try using .loc[row_indexer,col_indexer] = value instead\n",
            "\n",
            "See the caveats in the documentation: https://pandas.pydata.org/pandas-docs/stable/user_guide/indexing.html#returning-a-view-versus-a-copy\n",
            "  \n",
            "/usr/local/lib/python3.6/dist-packages/ipykernel_launcher.py:3: SettingWithCopyWarning: \n",
            "A value is trying to be set on a copy of a slice from a DataFrame.\n",
            "Try using .loc[row_indexer,col_indexer] = value instead\n",
            "\n",
            "See the caveats in the documentation: https://pandas.pydata.org/pandas-docs/stable/user_guide/indexing.html#returning-a-view-versus-a-copy\n",
            "  This is separate from the ipykernel package so we can avoid doing imports until\n",
            "/usr/local/lib/python3.6/dist-packages/ipykernel_launcher.py:4: SettingWithCopyWarning: \n",
            "A value is trying to be set on a copy of a slice from a DataFrame.\n",
            "Try using .loc[row_indexer,col_indexer] = value instead\n",
            "\n",
            "See the caveats in the documentation: https://pandas.pydata.org/pandas-docs/stable/user_guide/indexing.html#returning-a-view-versus-a-copy\n",
            "  after removing the cwd from sys.path.\n"
          ],
          "name": "stderr"
        }
      ]
    },
    {
      "cell_type": "code",
      "metadata": {
        "id": "QvWrePLm995L",
        "colab_type": "code",
        "colab": {}
      },
      "source": [
        "def CheckAllPredictions(df_test, run, ls):\n",
        "\n",
        "    Xmax=80000.0\n",
        "    Xmin=0.0\n",
        "    Xbins=100\n",
        "    hname=\"chargeInner_PXLayer_1\"\n",
        "    \n",
        "    ahisto=df_test['origin'][run][ls]\n",
        "    #ahisto1=df_test['prediction'][run][ls]\n",
        "    ahisto2=df_test['prediction2'][run][ls]\n",
        "    #mse=df_test['mse'][run][ls]\n",
        "    mse2=df_test['mse2'][run][ls]\n",
        "    \n",
        "    x= np.linspace(Xmin,Xmax,Xbins)\n",
        "    #plt.xlim(Xmin,Xmax)\n",
        "    \n",
        "    plt.step(x, ahisto, where='mid', label=(\" LS : \" + str(df_test.fromlumi[run][ls]) + \" Run : \" + str(df_test.fromrun[run][ls]) ))\n",
        "    #plt.step(x, ahisto1, where='mid', label=\" Raw Reco, mse:\" + str(mse))\n",
        "    plt.step(x, ahisto2, where='mid', label=\" Reco, mse:\" + str(mse2))\n",
        "    plt.xlabel(\"Charge electrons\")\n",
        "    plt.ylabel(\"A.U\")\n",
        "    plt.legend(bbox_to_anchor=(0, 1), loc='lower right', ncol=1)\n",
        "    plt.show()"
      ],
      "execution_count": 16,
      "outputs": []
    },
    {
      "cell_type": "code",
      "metadata": {
        "id": "iH1PEL4t-Dm7",
        "colab_type": "code",
        "colab": {}
      },
      "source": [
        "rcParams['figure.figsize'] = 3, 3\n",
        "for run in df_test['fromrun'].unique():\n",
        "    count=0\n",
        "    #if run <298000: continue\n",
        "    for ls in df_test['fromlumi'][run]: \n",
        "        #if df['train'][run][ls]== True: continue\n",
        "        #if ((df_test['mse2'][run][ls]<0.0001) or (df_test['mse2'][run][ls] > 0.0002)) : continue\n",
        "        if df_test['mse2'][run][ls] > 0.0001 : continue\n",
        "        #if df['entries'][run][ls]<3000: continue\n",
        "        #if (count >2): continue\n",
        "        count=count+1\n",
        "        #print(df.entries)[run][ls]\n",
        "        CheckAllPredictions(df_test, run,ls)"
      ],
      "execution_count": null,
      "outputs": []
    },
    {
      "cell_type": "code",
      "metadata": {
        "id": "7PiKMj5ezt7P",
        "colab_type": "code",
        "colab": {
          "base_uri": "https://localhost:8080/",
          "height": 335
        },
        "outputId": "b4b7818f-1e81-4364-fb9e-ced7ab13eca5"
      },
      "source": [
        "X_all_old = np.stack(df['histo'].values, axis=0)\n",
        "X_all = np.reshape(X_all_old, (len(X_all_old), 102))[:, 1:-1]\n",
        "X_all = np.reshape(X_all, (len(X_all_old),100))\n",
        "\n",
        "X_all_good_old = np.stack(df['histo'][df['labels']==True].values, axis=0)\n",
        "X_all_good = np.reshape(X_all_good_old, (len(X_all_good_old), 102))[:, 1:-1]\n",
        "X_all_good = np.reshape(X_all_good, (len(X_all_good_old),100))\n",
        "\n",
        "X_all_bad_old = np.stack(df['histo'][df['labels']==False].values, axis=0)\n",
        "X_all_bad = np.reshape(X_all_bad_old, (len(X_all_bad_old), 102))[:, 1:-1]\n",
        "X_all_bad = np.reshape(X_all_bad, (len(X_all_bad_old),100))\n",
        "\n",
        "X_all_norm=normalize(X_all, norm='l1', axis=1)\n",
        "X_all_good_norm=normalize(X_all_good, norm='l1', axis=1)\n",
        "X_all_bad_norm=normalize(X_all_bad, norm='l1', axis=1)\n",
        "\n",
        "x_predictions = autoencoder.predict(X_all_norm)\n",
        "x_good_predictions = autoencoder.predict(X_all_good_norm)\n",
        "x_bad_predictions = autoencoder.predict(X_all_bad_norm)\n",
        "#mse = np.mean(np.power(df_valid_x_rescaled - valid_x_predictions, 2), axis=1)\n",
        "mse_all=K.eval(mseTop10(X_all_norm, x_predictions))\n",
        "mse_good_all=K.eval(mseTop10(X_all_good_norm, x_good_predictions))\n",
        "mse_bad_all=K.eval(mseTop10(X_all_bad_norm, x_bad_predictions))\n",
        "#mse_test=np.mean(np.power(X_test_all_norm - test_x_predictions, 2), axis=1)\n",
        "print(mse_all)\n",
        "error_df_all = pd.DataFrame({'reconstruction_error': mse_all,\n",
        "                        'true_class': df['type']})\n",
        "error_df_all.describe()\n"
      ],
      "execution_count": 17,
      "outputs": [
        {
          "output_type": "stream",
          "text": [
            "[4.43382925e-07 1.84084295e-07 2.44000489e-07 ... 1.72832903e-06\n",
            " 1.72832903e-06 1.72832903e-06]\n"
          ],
          "name": "stdout"
        },
        {
          "output_type": "execute_result",
          "data": {
            "text/html": [
              "<div>\n",
              "<style scoped>\n",
              "    .dataframe tbody tr th:only-of-type {\n",
              "        vertical-align: middle;\n",
              "    }\n",
              "\n",
              "    .dataframe tbody tr th {\n",
              "        vertical-align: top;\n",
              "    }\n",
              "\n",
              "    .dataframe thead th {\n",
              "        text-align: right;\n",
              "    }\n",
              "</style>\n",
              "<table border=\"1\" class=\"dataframe\">\n",
              "  <thead>\n",
              "    <tr style=\"text-align: right;\">\n",
              "      <th></th>\n",
              "      <th>reconstruction_error</th>\n",
              "      <th>true_class</th>\n",
              "    </tr>\n",
              "  </thead>\n",
              "  <tbody>\n",
              "    <tr>\n",
              "      <th>count</th>\n",
              "      <td>2.259540e+05</td>\n",
              "      <td>225954.000000</td>\n",
              "    </tr>\n",
              "    <tr>\n",
              "      <th>mean</th>\n",
              "      <td>7.726306e-06</td>\n",
              "      <td>0.104689</td>\n",
              "    </tr>\n",
              "    <tr>\n",
              "      <th>std</th>\n",
              "      <td>7.079895e-04</td>\n",
              "      <td>0.306154</td>\n",
              "    </tr>\n",
              "    <tr>\n",
              "      <th>min</th>\n",
              "      <td>5.166632e-08</td>\n",
              "      <td>0.000000</td>\n",
              "    </tr>\n",
              "    <tr>\n",
              "      <th>25%</th>\n",
              "      <td>2.202263e-07</td>\n",
              "      <td>0.000000</td>\n",
              "    </tr>\n",
              "    <tr>\n",
              "      <th>50%</th>\n",
              "      <td>3.046327e-07</td>\n",
              "      <td>0.000000</td>\n",
              "    </tr>\n",
              "    <tr>\n",
              "      <th>75%</th>\n",
              "      <td>4.595767e-07</td>\n",
              "      <td>0.000000</td>\n",
              "    </tr>\n",
              "    <tr>\n",
              "      <th>max</th>\n",
              "      <td>1.036810e-01</td>\n",
              "      <td>1.000000</td>\n",
              "    </tr>\n",
              "  </tbody>\n",
              "</table>\n",
              "</div>"
            ],
            "text/plain": [
              "       reconstruction_error     true_class\n",
              "count          2.259540e+05  225954.000000\n",
              "mean           7.726306e-06       0.104689\n",
              "std            7.079895e-04       0.306154\n",
              "min            5.166632e-08       0.000000\n",
              "25%            2.202263e-07       0.000000\n",
              "50%            3.046327e-07       0.000000\n",
              "75%            4.595767e-07       0.000000\n",
              "max            1.036810e-01       1.000000"
            ]
          },
          "metadata": {
            "tags": []
          },
          "execution_count": 17
        }
      ]
    },
    {
      "cell_type": "code",
      "metadata": {
        "id": "aL7ZfN2lnFZe",
        "colab_type": "code",
        "colab": {
          "base_uri": "https://localhost:8080/",
          "height": 1000
        },
        "outputId": "e9876fa5-93d2-45a0-cff3-806d23c1c3d0"
      },
      "source": [
        "rcParams['figure.figsize'] = 14, 10\n",
        "\n",
        "error_df_test = error_df_test.reset_index(drop=True)\n",
        "threshold_fixed_test = 0.000013\n",
        "groups = error_df_test.groupby('true_class')\n",
        "gmean= 3.100298e-05 \n",
        "gstd = 1.339863e-04\n",
        "fig, ax = plt.subplots()\n",
        "\n",
        "for name, group in groups:\n",
        "    ax.plot(group.index, group.reconstruction_error, marker='o', ms=3.5, linestyle='', \n",
        "            label= \"Bad\" if name == 1 else \"Good\")\n",
        "ax.hlines(threshold_fixed_test, ax.get_xlim()[0], ax.get_xlim()[1], colors=\"k\", zorder=100, label='Threshold = 0.000002')\n",
        "#ax.hlines(gmean, ax.get_xlim()[0], ax.get_xlim()[1], color=\"blue\", label=\"Run average: \" + str(gmean))\n",
        "ax.hlines(gmean+(1.0*gstd), ax.get_xlim()[0], ax.get_xlim()[1], color=\"red\", label='1 SD (' + str(gstd) + \")\")\n",
        "ax.hlines(gmean+(3.0*gstd), ax.get_xlim()[0], ax.get_xlim()[1], color=\"red\", label='3 SD', linestyle=':')    \n",
        "ax.legend()\n",
        "plt.title(\"Reconstruction error for different classes for Test\")\n",
        "plt.ylabel(\"Reconstruction error\")\n",
        "plt.xlabel(\"Data point index\")\n",
        "plt.show();\n",
        "\n",
        "error_df_all = error_df_all.reset_index(drop=True)\n",
        "threshold_fixed_all = 0.000014\n",
        "groups = error_df_all.groupby('true_class')\n",
        "#gmean= 3.100298e-05 \n",
        "#gstd = 1.339863e-04\n",
        "fig, ax = plt.subplots()\n",
        "\n",
        "for name, group in groups:\n",
        "    ax.plot(group.index, group.reconstruction_error, marker='o', ms=3.5, linestyle='', \n",
        "            label= \"Bad\" if name == 1 else \"Good\")\n",
        "ax.hlines(threshold_fixed_all, ax.get_xlim()[0], ax.get_xlim()[1], colors=\"k\", zorder=100, label='Threshold = 0.000002')\n",
        "#ax.hlines(gmean, ax.get_xlim()[0], ax.get_xlim()[1], color=\"blue\", label=\"Run average: \" + str(gmean))\n",
        "ax.hlines(gmean+(1.0*gstd), ax.get_xlim()[0], ax.get_xlim()[1], color=\"red\", label='1 SD (' + str(gstd) + \")\")\n",
        "ax.hlines(gmean+(3.0*gstd), ax.get_xlim()[0], ax.get_xlim()[1], color=\"red\", label='3 SD', linestyle=':')    \n",
        "ax.legend()\n",
        "#plt.scatter(df['fromrun'].unique(), y, marker='+', label='Data points')\n",
        "plt.ylim([0.0, 0.0006])\n",
        "plt.title(\"Reconstruction error for different classes for Test\")\n",
        "plt.ylabel(\"Reconstruction error\")\n",
        "plt.xlabel(\"Data point index\")\n",
        "plt.show();\n"
      ],
      "execution_count": 18,
      "outputs": [
        {
          "output_type": "display_data",
          "data": {
            "image/png": "[encoded data removed]",
            "text/plain": [
              "<Figure size 1008x720 with 1 Axes>"
            ]
          },
          "metadata": {
            "tags": []
          }
        },
        {
          "output_type": "display_data",
          "data": {
            "image/png": "[encoded data removed]",
            "text/plain": [
              "<Figure size 1008x720 with 1 Axes>"
            ]
          },
          "metadata": {
            "tags": []
          }
        }
      ]
    },
    {
      "cell_type": "code",
      "metadata": {
        "id": "GBVpK81P8UmV",
        "colab_type": "code",
        "colab": {
          "base_uri": "https://localhost:8080/",
          "height": 104
        },
        "outputId": "48a3036c-4b27-403d-8d8b-3839596bfdb2"
      },
      "source": [
        "df['mse2']=mse_all\n",
        "df['mse2'].loc[df['labels']==True]=mse_good_all\n",
        "df['mse2'].loc[df['labels']==False]=mse_bad_all\n",
        "def globalMSETrend(df):\n",
        "    \n",
        "    y=[]\n",
        "    \n",
        "    rmax=0\n",
        "    rmin=10\n",
        "    \n",
        "    print(rmax, rmin)\n",
        "    for run in df['fromrun'].unique():\n",
        "        #if (type==1): val=(df['mse'][run]).mean()\n",
        "        val=(df['mse2'][run]).mean()\n",
        "        if val > rmax: rmax=val\n",
        "        if val < rmin: rmin =val\n",
        "        y.append(val)\n",
        "    \n",
        "    array=np.array(y)\n",
        "    gmean=array.mean()\n",
        "    size=float(array.size)\n",
        "    gstd=array.std()\n",
        "    print(size)\n",
        "    \n",
        "    fig=plt.figure()\n",
        "    fig.set_size_inches(16, 9)\n",
        "    \n",
        "    plt.hlines(gmean,df['fromrun'].unique().min(), df['fromrun'].unique().max(), color=\"blue\", label=\"Run average: \" + str(gmean))\n",
        "    plt.hlines(gmean+(1.0*gstd), df['fromrun'].unique().min(), df['fromrun'].unique().max(), color=\"red\", label='1 SD (' + str(gstd) + \")\")\n",
        "    plt.hlines(gmean+(3.0*gstd), df['fromrun'].unique().min(), df['fromrun'].unique().max(), color=\"red\", label='3 SD', linestyle=':')\n",
        "    \n",
        "    plt.ylim(rmin*0.9,rmax*1.1)\n",
        "    plt.scatter(df['fromrun'].unique(), y, marker='+', label='Data points')\n",
        "    plt.xlabel(\"Run\")\n",
        "    plt.ylabel(\"average MSE\")\n",
        "    plt.legend()\n",
        "    plt.show()"
      ],
      "execution_count": 19,
      "outputs": [
        {
          "output_type": "stream",
          "text": [
            "/usr/local/lib/python3.6/dist-packages/pandas/core/indexing.py:671: SettingWithCopyWarning: \n",
            "A value is trying to be set on a copy of a slice from a DataFrame\n",
            "\n",
            "See the caveats in the documentation: https://pandas.pydata.org/pandas-docs/stable/user_guide/indexing.html#returning-a-view-versus-a-copy\n",
            "  self._setitem_with_indexer(indexer, value)\n"
          ],
          "name": "stderr"
        }
      ]
    },
    {
      "cell_type": "code",
      "metadata": {
        "id": "RkXlqB3HGB7Q",
        "colab_type": "code",
        "colab": {}
      },
      "source": [
        "def globalMSETrendAll(df):\n",
        "    dff = df[df.labels==False]\n",
        "    yf=[]\n",
        "    #print (dff.head())\n",
        "    rmax=0\n",
        "    rmin=10\n",
        "    \n",
        "    #print(rmax, rmin)\n",
        "    for run in dff['fromrun'].unique():\n",
        "        #if (type==1): val=(dff['mse'][run]).mean()\n",
        "        val=(dff['mse2'][run]).mean()\n",
        "        if val > rmax: rmax=val\n",
        "        if val < rmin: rmin =val\n",
        "        yf.append(val)\n",
        "    \n",
        "    arrayf=np.array(yf)\n",
        "    gmeanf=arrayf.mean()\n",
        "    sizef=float(arrayf.size)\n",
        "    gstdf=arrayf.std()\n",
        "    print(sizef)\n",
        "##################\n",
        "    dft = df[df.labels==True]\n",
        "    y=[]\n",
        "    \n",
        "    rmax=0\n",
        "    rmin=10\n",
        "    \n",
        "    print(rmax, rmin)\n",
        "    for run in dft['fromrun'].unique():\n",
        "        #if (type==1): val=(dft['mse'][run]).mean()\n",
        "        val=(dft['mse2'][run]).mean()\n",
        "        if val > rmax: rmax=val\n",
        "        if val < rmin: rmin =val\n",
        "        y.append(val)\n",
        "    \n",
        "    array=np.array(y)\n",
        "    gmean=array.mean()\n",
        "    size=float(array.size)\n",
        "    gstd=array.std()\n",
        "    print(size)\n",
        "    \n",
        "#######################\n",
        "\n",
        "    fig=plt.figure()\n",
        "    fig.set_size_inches(16, 9)\n",
        "    \n",
        "    plt.hlines(gmean,dft['fromrun'].unique().min(), dft['fromrun'].unique().max(), color=\"blue\", label=\"Good Run average: 7.88877651e-07\" )\n",
        "    plt.hlines(0.0000012, dft['fromrun'].unique().min(), dft['fromrun'].unique().max(), colors=\"yellow\", zorder=100, label='Threshold = 0.0000012')\n",
        "    #plt.hlines(gmean+(1.0*gstd), dft['fromrun'].unique().min(), dft['fromrun'].unique().max(), color=\"red\", label='1 SD (' + str(gstd) + \")\")\n",
        "    #plt.hlines(gmean+(3.0*gstd), dft['fromrun'].unique().min(), dft['fromrun'].unique().max(), color=\"red\", label='3 SD', linestyle=':')\n",
        "    \n",
        "    plt.hlines(gmeanf,dff['fromrun'].unique().min(), dff['fromrun'].unique().max(), color=\"green\", label=\"Bad Run average : 0.00011726\"  )\n",
        "    #plt.hlines(gmeanf+(1.0*gstd), dff['fromrun'].unique().min(), dff['fromrun'].unique().max(), color=\"green\", label='1 SD (' + str(gstdf) + \")\")\n",
        "    #plt.hlines(gmeanf+(3.0*gstd), dff['fromrun'].unique().min(), dff['fromrun'].unique().max(), color=\"green\", label='3 SD', linestyle=':')\n",
        "    \n",
        "    \n",
        "    #plt.ylim(rmin*0.9,rmax*1.1)\n",
        "    plt.ylim([0.0,0.0003])\n",
        "    plt.scatter(dft['fromrun'].unique(), y, marker='+', label='Good Data points')\n",
        "    plt.scatter(dff['fromrun'].unique(), yf, marker='+', label='Bad Data points',color=\"red\", alpha = 0.3)\n",
        "    plt.xlabel(\"Run\")\n",
        "    plt.ylabel(\"average MSE\")\n",
        "    plt.legend(bbox_to_anchor=(0, 1), loc='lower left', ncol=1)\n",
        "    plt.show()\n",
        "\t\n"
      ],
      "execution_count": 20,
      "outputs": []
    },
    {
      "cell_type": "code",
      "metadata": {
        "id": "2gZCWonoy4Kz",
        "colab_type": "code",
        "colab": {
          "base_uri": "https://localhost:8080/",
          "height": 695
        },
        "outputId": "35365ef1-7feb-4058-d6f1-be5e9120e4b1"
      },
      "source": [
        "globalMSETrendAll(df)"
      ],
      "execution_count": 21,
      "outputs": [
        {
          "output_type": "stream",
          "text": [
            "465.0\n",
            "0 10\n",
            "469.0\n"
          ],
          "name": "stdout"
        },
        {
          "output_type": "display_data",
          "data": {
            "image/png": "[encoded data removed]",
            "text/plain": [
              "<Figure size 1152x648 with 1 Axes>"
            ]
          },
          "metadata": {
            "tags": []
          }
        }
      ]
    },
    {
      "cell_type": "code",
      "metadata": {
        "id": "4EJPiMy8pSA8",
        "colab_type": "code",
        "colab": {
          "base_uri": "https://localhost:8080/",
          "height": 400
        },
        "outputId": "31889295-df88-4241-d2a9-27db3fea0a87"
      },
      "source": [
        "#df_good_res= pd.read_csv('/content/drive/My Drive/Colab Notebooks/finaloutput/final_good.csv', names = [\"histo\"])\n",
        "\n",
        "f1 = np.loadtxt('/content/drive/My Drive/Colab Notebooks/finaloutput/final_good.csv')\n",
        "#print (f1.shape)\n",
        "\n",
        "\n",
        "file = open('/content/drive/My Drive/Colab Notebooks/finaloutput/final_good.csv')\n",
        "l = []\n",
        "for line in file : \n",
        "\n",
        "  lt = [float(i) for i in line.split()]\n",
        "  \n",
        "  l.append(lt)\n",
        "print(len(l))\n",
        "print(np.array(l).shape)\n",
        "df_ex = pd.DataFrame(data=np.array(l))\n",
        "print(df_ex.shape)\n",
        "df_good_res = pd.DataFrame()\n",
        "df_good_res[\"histo\"]=l\n",
        "print(df_good_res[\"histo\"].shape)\n",
        "print(len(np.unique(np.array(l))))\n",
        "\n",
        "#print(type(df_good_res[\"histo\"]))\n",
        "#print(df_good_res.shape)\n",
        "df_good_res[\"type\"]=0\n",
        "#print(df_good_res[\"type\"].shape)\n",
        "#print(df_good_res.head)\n",
        "\n",
        "#df_bad_res= pd.read_csv('/content/drive/My Drive/Colab Notebooks/finaloutput/final_bad.csv', names = [\"histo\"])\n",
        "#df_bad_res=df_bad_res.apply(literal_eval)\n",
        "#print(df_bad_res)\n",
        "#print(df_bad_res.shape)\n",
        "file_bad = open('/content/drive/My Drive/Colab Notebooks/finaloutput/final_bad.csv')\n",
        "l_bad = []\n",
        "for line in file_bad : \n",
        "\n",
        "  lt = [float(i) for i in line.split()]\n",
        "  \n",
        "  l_bad.append(lt)\n",
        "\n",
        "df_bad_res = pd.DataFrame()\n",
        "df_bad_res[\"histo\"]=l_bad\n",
        "\n",
        "df_bad_res[\"type\"]=1\n",
        "#print(df_bad_res[\"type\"].shape)\n",
        "#print(df_bad_res.head)\n",
        "\n",
        "df_res_tot = pd.concat([df_good_res, df_bad_res ], ignore_index=True)\n",
        "print(df_res_tot)\n",
        "'''\n",
        "dfs = [df_good_res, df_bad_res]\n",
        "n_dfs = len(dfs)\n",
        "nrows = dfs[0].shape[0]\n",
        "ncols = dfs[0].shape[1]\n",
        "A = pd.concat(dfs, axis=1).values.reshape(nrows,-1,ncols)\n",
        "sidx = np.random.rand(nrows,n_dfs).argsort(1)\n",
        "out_arr = A[np.arange(nrows)[:,None],sidx,:].reshape(nrows,-1)\n",
        "df_res_tot = pd.DataFrame(out_arr)\n",
        "df_res_tot.head\n",
        "'''\n",
        "#df_res_tot[\"histo\"].str.split(expand=True)\n"
      ],
      "execution_count": 145,
      "outputs": [
        {
          "output_type": "stream",
          "text": [
            "11000\n",
            "(11000, 102)\n",
            "(11000, 102)\n",
            "(11000,)\n",
            "903662\n",
            "                                                   histo  type\n",
            "0      [0.0, 0.0, 0.0, 0.0, 0.0, 0.0, 0.0, 0.0, 0.0, ...     0\n",
            "1      [0.0, 0.0, 0.0, 0.0, 0.0, 0.0, 0.0, 0.0, 0.0, ...     0\n",
            "2      [0.0, 0.0, 0.0, 0.0, 0.0, 0.0, 0.0, 4.69865163...     0\n",
            "3      [0.0, 0.0, 0.0, 0.0, 0.0, 0.0, 0.0, 2.75475238...     0\n",
            "4      [0.0, 0.0, 0.0, 0.0, 0.0, 0.0, 0.0, 0.0, 0.0, ...     0\n",
            "...                                                  ...   ...\n",
            "20995  [0.0, 0.0, 0.0, 0.0, 0.0, 0.0, 0.0, 0.0, 0.0, ...     1\n",
            "20996  [0.0, 0.0, 0.0, 0.0, 0.0, 0.0, 0.0, 0.0, 0.0, ...     1\n",
            "20997  [0.0, 0.0, 0.0, 0.0, 0.0, 0.0, 0.0, 0.0, 0.0, ...     1\n",
            "20998  [0.0, 0.0, 0.0, 0.0, 0.0, 0.0, 0.0, 0.0, 0.0, ...     1\n",
            "20999  [0.0, 0.0, 0.0, 0.0, 0.0, 0.0, 0.0, 0.0, 0.0, ...     1\n",
            "\n",
            "[21000 rows x 2 columns]\n"
          ],
          "name": "stdout"
        },
        {
          "output_type": "execute_result",
          "data": {
            "application/vnd.google.colaboratory.intrinsic+json": {
              "type": "string"
            },
            "text/plain": [
              "'\\ndfs = [df_good_res, df_bad_res]\\nn_dfs = len(dfs)\\nnrows = dfs[0].shape[0]\\nncols = dfs[0].shape[1]\\nA = pd.concat(dfs, axis=1).values.reshape(nrows,-1,ncols)\\nsidx = np.random.rand(nrows,n_dfs).argsort(1)\\nout_arr = A[np.arange(nrows)[:,None],sidx,:].reshape(nrows,-1)\\ndf_res_tot = pd.DataFrame(out_arr)\\ndf_res_tot.head\\n'"
            ]
          },
          "metadata": {
            "tags": []
          },
          "execution_count": 145
        }
      ]
    },
    {
      "cell_type": "code",
      "metadata": {
        "id": "oNfnOkVIaQl9",
        "colab_type": "code",
        "colab": {
          "base_uri": "https://localhost:8080/",
          "height": 1000
        },
        "outputId": "e4e2e083-5bd7-4edf-a548-d96f836c0a10"
      },
      "source": [
        "Skill_of_Classifier(df_res_tot)"
      ],
      "execution_count": 149,
      "outputs": [
        {
          "output_type": "stream",
          "text": [
            "[6.76897932e-05 1.42606784e-05 3.36916136e-05 ... 4.21680371e-02\n",
            " 4.34086046e-02 4.08398736e-02]\n",
            "       reconstruction_error    true_class\n",
            "count          21000.000000  21000.000000\n",
            "mean               0.007529      0.476190\n",
            "std                0.018331      0.499445\n",
            "min                0.000008      0.000000\n",
            "25%                0.000028      0.000000\n",
            "50%                0.000047      0.000000\n",
            "75%                0.000554      1.000000\n",
            "max                0.084572      1.000000\n",
            "Best Threshold=0.000074, G-Mean=1.000\n",
            "Best Threshold=0.000074, F-Score=1.000\n"
          ],
          "name": "stdout"
        },
        {
          "output_type": "display_data",
          "data": {
            "image/png": "[encoded data removed]",
            "text/plain": [
              "<Figure size 720x432 with 1 Axes>"
            ]
          },
          "metadata": {
            "tags": []
          }
        },
        {
          "output_type": "display_data",
          "data": {
            "image/png": "[encoded data removed]",
            "text/plain": [
              "<Figure size 720x432 with 1 Axes>"
            ]
          },
          "metadata": {
            "tags": []
          }
        },
        {
          "output_type": "display_data",
          "data": {
            "image/png": "[encoded data removed]",
            "text/plain": [
              "<Figure size 720x432 with 1 Axes>"
            ]
          },
          "metadata": {
            "tags": []
          }
        },
        {
          "output_type": "display_data",
          "data": {
            "image/png": "[encoded data removed]",
            "text/plain": [
              "<Figure size 720x432 with 2 Axes>"
            ]
          },
          "metadata": {
            "tags": []
          }
        }
      ]
    },
    {
      "cell_type": "code",
      "metadata": {
        "id": "ub5Kuk8zNT8n",
        "colab_type": "code",
        "colab": {
          "base_uri": "https://localhost:8080/",
          "height": 173
        },
        "outputId": "9ea401f5-eb62-4b4e-9322-350cf4620feb"
      },
      "source": [
        "X_test_res_all_old = np.stack(df_res_tot['histo'].values, axis=0)\n",
        "#X_test_res_all.reshape(len(X_test_res_all), 100)\n",
        "#np.hsplit(X_test_res_all,100)\n",
        "#print(type(X_test_res_all))\n",
        "print(X_test_res_all_old)\n",
        "print(X_test_res_all_old.shape)\n",
        "X_test_res_all = np.reshape(X_test_res_all_old, (len(X_test_res_all_old), 102))[:, 1:-1]\n",
        "X_test_res_all = np.reshape(X_test_res_all, (len(X_test_res_all_old),100))\n",
        "X_test_res_all_norm=normalize(X_test_res_all, norm='l1', axis=1)\n",
        "print(X_test_res_all_norm.shape)"
      ],
      "execution_count": 128,
      "outputs": [
        {
          "output_type": "stream",
          "text": [
            "[[0. 0. 0. ... 0. 0. 0.]\n",
            " [0. 0. 0. ... 0. 0. 0.]\n",
            " [0. 0. 0. ... 0. 0. 0.]\n",
            " ...\n",
            " [0. 0. 0. ... 0. 0. 0.]\n",
            " [0. 0. 0. ... 0. 0. 0.]\n",
            " [0. 0. 0. ... 0. 0. 0.]]\n",
            "(21000, 102)\n",
            "(21000, 100)\n"
          ],
          "name": "stdout"
        }
      ]
    },
    {
      "cell_type": "code",
      "metadata": {
        "id": "X77MWXSfm8js",
        "colab_type": "code",
        "colab": {
          "base_uri": "https://localhost:8080/",
          "height": 335
        },
        "outputId": "2fc2ce12-5991-4d22-efbd-3ee2938dae36"
      },
      "source": [
        "df_res_tot['origin']=''\n",
        "df_res_tot['origin']=X_test_res_all_norm.tolist()\n",
        "\n",
        "test_res_x_predictions = autoencoder.predict(X_test_res_all_norm)\n",
        "#mse = np.mean(np.power(df_valid_x_rescaled - valid_x_predictions, 2), axis=1)finaloutput\n",
        "mse_test_res=K.eval(mseTop10(X_test_res_all_norm, test_res_x_predictions))\n",
        "print(mse_test_res)\n",
        "error_df_test_res = pd.DataFrame({'reconstruction_error': mse_test_res,\n",
        "                        'true_class': df_res_tot['type']})\n",
        "error_df_test_res.describe()"
      ],
      "execution_count": 117,
      "outputs": [
        {
          "output_type": "stream",
          "text": [
            "[4.70394246e-05 1.50218345e-05 2.74248085e-05 ... 4.25756144e-02\n",
            " 4.39094911e-02 4.12315201e-02]\n"
          ],
          "name": "stdout"
        },
        {
          "output_type": "execute_result",
          "data": {
            "text/html": [
              "<div>\n",
              "<style scoped>\n",
              "    .dataframe tbody tr th:only-of-type {\n",
              "        vertical-align: middle;\n",
              "    }\n",
              "\n",
              "    .dataframe tbody tr th {\n",
              "        vertical-align: top;\n",
              "    }\n",
              "\n",
              "    .dataframe thead th {\n",
              "        text-align: right;\n",
              "    }\n",
              "</style>\n",
              "<table border=\"1\" class=\"dataframe\">\n",
              "  <thead>\n",
              "    <tr style=\"text-align: right;\">\n",
              "      <th></th>\n",
              "      <th>reconstruction_error</th>\n",
              "      <th>true_class</th>\n",
              "    </tr>\n",
              "  </thead>\n",
              "  <tbody>\n",
              "    <tr>\n",
              "      <th>count</th>\n",
              "      <td>21000.000000</td>\n",
              "      <td>21000.000000</td>\n",
              "    </tr>\n",
              "    <tr>\n",
              "      <th>mean</th>\n",
              "      <td>0.007322</td>\n",
              "      <td>0.476190</td>\n",
              "    </tr>\n",
              "    <tr>\n",
              "      <th>std</th>\n",
              "      <td>0.017464</td>\n",
              "      <td>0.499445</td>\n",
              "    </tr>\n",
              "    <tr>\n",
              "      <th>min</th>\n",
              "      <td>0.000007</td>\n",
              "      <td>0.000000</td>\n",
              "    </tr>\n",
              "    <tr>\n",
              "      <th>25%</th>\n",
              "      <td>0.000028</td>\n",
              "      <td>0.000000</td>\n",
              "    </tr>\n",
              "    <tr>\n",
              "      <th>50%</th>\n",
              "      <td>0.000047</td>\n",
              "      <td>0.000000</td>\n",
              "    </tr>\n",
              "    <tr>\n",
              "      <th>75%</th>\n",
              "      <td>0.000579</td>\n",
              "      <td>1.000000</td>\n",
              "    </tr>\n",
              "    <tr>\n",
              "      <th>max</th>\n",
              "      <td>0.078750</td>\n",
              "      <td>1.000000</td>\n",
              "    </tr>\n",
              "  </tbody>\n",
              "</table>\n",
              "</div>"
            ],
            "text/plain": [
              "       reconstruction_error    true_class\n",
              "count          21000.000000  21000.000000\n",
              "mean               0.007322      0.476190\n",
              "std                0.017464      0.499445\n",
              "min                0.000007      0.000000\n",
              "25%                0.000028      0.000000\n",
              "50%                0.000047      0.000000\n",
              "75%                0.000579      1.000000\n",
              "max                0.078750      1.000000"
            ]
          },
          "metadata": {
            "tags": []
          },
          "execution_count": 117
        }
      ]
    },
    {
      "cell_type": "code",
      "metadata": {
        "id": "s3VqyvHVoIYf",
        "colab_type": "code",
        "colab": {
          "base_uri": "https://localhost:8080/",
          "height": 611
        },
        "outputId": "3ee3ba95-b965-41a0-9be4-2a2dc3fd57fc"
      },
      "source": [
        "# reconstruction error for the normal transactions in the testing dataset\n",
        "#rcParams['figure.figsize'] = 10, 8\n",
        "\n",
        "Anomaly_error_df_test_res = error_df_test_res[(error_df_test_res['true_class'] == True)]\n",
        "Golden_error_df_test_res = error_df_test_res[(error_df_test_res['true_class'] == False)]\n",
        "fig = plt.figure(1)\n",
        "ax = fig.add_subplot()\n",
        "ax.hist(Golden_error_df_test_res.reconstruction_error.values, bins=100, range=(0., 0.0010), color = 'yellow', label= 'Test : Golden',  alpha = 1.0, lw=3, log=True)\n",
        "ax.hist(Anomaly_error_df_test_res.reconstruction_error.values, bins=100, range=(0., 0.0010), color = 'red', label= 'Test : Bad',  alpha = 0.3, lw=3, log=True)\n",
        "ax.set_xlabel('Reconstruction_error for Test resampled dataset')\n",
        "#ax.set_alpha(0.9)\n",
        "#plt.tight_layout()\n",
        "plt.legend(['Golden', 'Bad'], loc='upper right')\n",
        "plt.show()\n"
      ],
      "execution_count": 127,
      "outputs": [
        {
          "output_type": "display_data",
          "data": {
            "image/png": "[encoded data removed]",
            "text/plain": [
              "<Figure size 1008x720 with 1 Axes>"
            ]
          },
          "metadata": {
            "tags": []
          }
        }
      ]
    },
    {
      "cell_type": "code",
      "metadata": {
        "id": "RdKgkpjq-aXg",
        "colab_type": "code",
        "colab": {
          "base_uri": "https://localhost:8080/",
          "height": 202
        },
        "outputId": "953d8491-ec64-4d5c-b78d-5e07299be614"
      },
      "source": [
        "print(X_train_true_norm.shape)\n",
        "print(X_valid_true_norm.shape)\n",
        "print(X_test_true_norm.shape)"
      ],
      "execution_count": null,
      "outputs": [
        {
          "output_type": "error",
          "ename": "NameError",
          "evalue": "ignored",
          "traceback": [
            "\u001b[0;31m---------------------------------------------------------------------------\u001b[0m",
            "\u001b[0;31mNameError\u001b[0m                                 Traceback (most recent call last)",
            "\u001b[0;32m<ipython-input-1-4b17a8c5d91e>\u001b[0m in \u001b[0;36m<module>\u001b[0;34m()\u001b[0m\n\u001b[0;32m----> 1\u001b[0;31m \u001b[0mprint\u001b[0m\u001b[0;34m(\u001b[0m\u001b[0mX_train_true_norm\u001b[0m\u001b[0;34m.\u001b[0m\u001b[0mshape\u001b[0m\u001b[0;34m)\u001b[0m\u001b[0;34m\u001b[0m\u001b[0;34m\u001b[0m\u001b[0m\n\u001b[0m\u001b[1;32m      2\u001b[0m \u001b[0mprint\u001b[0m\u001b[0;34m(\u001b[0m\u001b[0mX_valid_true_norm\u001b[0m\u001b[0;34m.\u001b[0m\u001b[0mshape\u001b[0m\u001b[0;34m)\u001b[0m\u001b[0;34m\u001b[0m\u001b[0;34m\u001b[0m\u001b[0m\n\u001b[1;32m      3\u001b[0m \u001b[0mprint\u001b[0m\u001b[0;34m(\u001b[0m\u001b[0mX_test_true_norm\u001b[0m\u001b[0;34m.\u001b[0m\u001b[0mshape\u001b[0m\u001b[0;34m)\u001b[0m\u001b[0;34m\u001b[0m\u001b[0;34m\u001b[0m\u001b[0m\n",
            "\u001b[0;31mNameError\u001b[0m: name 'X_train_true_norm' is not defined"
          ]
        }
      ]
    },
    {
      "cell_type": "code",
      "metadata": {
        "id": "I_DXvsmtrpZx",
        "colab_type": "code",
        "colab": {}
      },
      "source": [
        ""
      ],
      "execution_count": null,
      "outputs": []
    },
    {
      "cell_type": "code",
      "metadata": {
        "id": "WBUvZNHAr28Y",
        "colab_type": "code",
        "colab": {
          "base_uri": "https://localhost:8080/",
          "height": 382
        },
        "outputId": "40f507c6-86ab-4a72-b90f-db1296597540"
      },
      "source": [
        "#LSTM\n",
        "from numpy import array\n",
        "from keras.models import Sequential\n",
        "from keras.models import Sequential\n",
        "from keras import optimizers\n",
        "from keras.layers import LSTM\n",
        "from keras.layers import Dense\n",
        "from keras.layers import RepeatVector\n",
        "from keras.layers import TimeDistributed\n",
        "from keras.utils import plot_model\n",
        "from keras.layers.advanced_activations import ReLU\n",
        "\n",
        "lr = 0.0001\n",
        "# reshape input into [samples, timesteps, features]\n",
        "timesteps = len(X_train_true_norm[0])\n",
        "n_samples = X_train_true_norm.shape[0]\n",
        "n_features = 1\n",
        "X_train_lstm = X_train_true_norm.reshape((n_samples, timesteps, 1))\n",
        "print(X_train_lstm.shape)\n",
        "\n",
        "timesteps_valid = len(X_valid_true_norm[0])\n",
        "n_samples_valid = X_valid_true_norm.shape[0]\n",
        "n_features = 1\n",
        "X_valid_lstm = X_valid_true_norm.reshape((n_samples_valid, timesteps_valid, 1))\n",
        "\n",
        "lstm_autoencoder = Sequential()\n",
        "# Encoder\n",
        "lstm_autoencoder.add(LSTM(10, activation='tanh', input_shape=(timesteps, n_features), return_sequences=True))\n",
        "lstm_autoencoder.add(LSTM(3, activation='tanh', return_sequences=False))\n",
        "lstm_autoencoder.add(RepeatVector(timesteps))\n",
        "# Decoder\n",
        "lstm_autoencoder.add(LSTM(3, activation='tanh', return_sequences=True))\n",
        "lstm_autoencoder.add(LSTM(10, activation='tanh', return_sequences=True))\n",
        "lstm_autoencoder.add(TimeDistributed(Dense(n_features)))\n",
        "\n",
        "lstm_autoencoder.summary()\n",
        "\n"
      ],
      "execution_count": null,
      "outputs": [
        {
          "output_type": "stream",
          "text": [
            "(129382, 100, 1)\n",
            "Model: \"sequential_1\"\n",
            "_________________________________________________________________\n",
            "Layer (type)                 Output Shape              Param #   \n",
            "=================================================================\n",
            "lstm_1 (LSTM)                (None, 100, 10)           480       \n",
            "_________________________________________________________________\n",
            "lstm_2 (LSTM)                (None, 3)                 168       \n",
            "_________________________________________________________________\n",
            "repeat_vector_1 (RepeatVecto (None, 100, 3)            0         \n",
            "_________________________________________________________________\n",
            "lstm_3 (LSTM)                (None, 100, 3)            84        \n",
            "_________________________________________________________________\n",
            "lstm_4 (LSTM)                (None, 100, 10)           560       \n",
            "_________________________________________________________________\n",
            "time_distributed_1 (TimeDist (None, 100, 1)            11        \n",
            "=================================================================\n",
            "Total params: 1,303\n",
            "Trainable params: 1,303\n",
            "Non-trainable params: 0\n",
            "_________________________________________________________________\n"
          ],
          "name": "stdout"
        }
      ]
    },
    {
      "cell_type": "code",
      "metadata": {
        "id": "zE_qfvj9llTE",
        "colab_type": "code",
        "colab": {
          "base_uri": "https://localhost:8080/",
          "height": 1000
        },
        "outputId": "3c58dca0-8f0f-41a1-ace3-d3498113d881"
      },
      "source": [
        "epochs=100\n",
        "batch=500\n",
        "\n",
        "adam = optimizers.Adam(lr)\n",
        "lstm_autoencoder.compile(loss='mse', optimizer=adam)\n",
        "\n",
        "cp = ModelCheckpoint(filepath=\"/content/drive/My Drive/Colab Notebooks/lstm_autoencoder_classifier.h5\",\n",
        "                               save_best_only=True,\n",
        "                               verbose=0)\n",
        "\n",
        "tb = TensorBoard(log_dir='/content/drive/My Drive/Colab Notebooks/lstm_logs',\n",
        "                histogram_freq=0,\n",
        "                write_graph=True,\n",
        "                write_images=True)\n",
        "\n",
        "lstm_autoencoder_history = lstm_autoencoder.fit(X_train_lstm, X_train_lstm, \n",
        "                                                epochs=epochs, \n",
        "                                                batch_size=batch, \n",
        "                                                validation_data=(X_valid_lstm, X_valid_lstm),\n",
        "                                                verbose=2).history"
      ],
      "execution_count": null,
      "outputs": [
        {
          "output_type": "stream",
          "text": [
            "Train on 129382 samples, validate on 32421 samples\n",
            "Epoch 1/100\n",
            " - 181s - loss: 2.1108e-04 - val_loss: 1.9895e-04\n",
            "Epoch 2/100\n",
            " - 179s - loss: 1.1894e-04 - val_loss: 3.4616e-05\n",
            "Epoch 3/100\n",
            " - 176s - loss: 3.1598e-05 - val_loss: 3.0539e-05\n",
            "Epoch 4/100\n",
            " - 176s - loss: 3.0371e-05 - val_loss: 3.0077e-05\n",
            "Epoch 5/100\n",
            " - 176s - loss: 3.0051e-05 - val_loss: 2.9879e-05\n",
            "Epoch 6/100\n",
            " - 176s - loss: 2.9889e-05 - val_loss: 2.9773e-05\n",
            "Epoch 7/100\n",
            " - 176s - loss: 2.9783e-05 - val_loss: 2.9677e-05\n",
            "Epoch 8/100\n",
            " - 176s - loss: 2.9703e-05 - val_loss: 2.9597e-05\n",
            "Epoch 9/100\n",
            " - 177s - loss: 2.9646e-05 - val_loss: 2.9574e-05\n",
            "Epoch 10/100\n",
            " - 176s - loss: 2.9580e-05 - val_loss: 2.9474e-05\n",
            "Epoch 11/100\n",
            " - 176s - loss: 2.9531e-05 - val_loss: 2.9466e-05\n",
            "Epoch 12/100\n",
            " - 175s - loss: 2.9491e-05 - val_loss: 2.9440e-05\n",
            "Epoch 13/100\n",
            " - 176s - loss: 2.9443e-05 - val_loss: 2.9337e-05\n",
            "Epoch 14/100\n",
            " - 175s - loss: 2.9391e-05 - val_loss: 2.9306e-05\n",
            "Epoch 15/100\n",
            " - 176s - loss: 2.9343e-05 - val_loss: 2.9234e-05\n",
            "Epoch 16/100\n",
            " - 175s - loss: 2.9273e-05 - val_loss: 2.9203e-05\n",
            "Epoch 17/100\n",
            " - 176s - loss: 2.9156e-05 - val_loss: 2.9000e-05\n",
            "Epoch 18/100\n",
            " - 175s - loss: 2.8952e-05 - val_loss: 2.8682e-05\n",
            "Epoch 19/100\n",
            " - 175s - loss: 2.8447e-05 - val_loss: 2.7892e-05\n",
            "Epoch 20/100\n",
            " - 176s - loss: 2.7296e-05 - val_loss: 2.6421e-05\n",
            "Epoch 21/100\n",
            " - 175s - loss: 2.5689e-05 - val_loss: 2.4817e-05\n",
            "Epoch 22/100\n",
            " - 176s - loss: 2.3885e-05 - val_loss: 2.2583e-05\n",
            "Epoch 23/100\n",
            " - 175s - loss: 2.1045e-05 - val_loss: 1.9190e-05\n",
            "Epoch 24/100\n",
            " - 176s - loss: 1.7256e-05 - val_loss: 1.5519e-05\n",
            "Epoch 25/100\n",
            " - 176s - loss: 1.4705e-05 - val_loss: 1.3598e-05\n",
            "Epoch 26/100\n",
            " - 178s - loss: 1.3031e-05 - val_loss: 1.2178e-05\n",
            "Epoch 27/100\n",
            " - 176s - loss: 1.1808e-05 - val_loss: 1.1176e-05\n",
            "Epoch 28/100\n",
            " - 176s - loss: 1.0787e-05 - val_loss: 1.0205e-05\n",
            "Epoch 29/100\n",
            " - 176s - loss: 9.9380e-06 - val_loss: 9.6541e-06\n",
            "Epoch 30/100\n",
            " - 176s - loss: 9.1955e-06 - val_loss: 9.0862e-06\n",
            "Epoch 31/100\n",
            " - 176s - loss: 8.6513e-06 - val_loss: 8.6056e-06\n",
            "Epoch 32/100\n",
            " - 175s - loss: 8.1041e-06 - val_loss: 7.7953e-06\n",
            "Epoch 33/100\n",
            " - 179s - loss: 7.7103e-06 - val_loss: 7.4017e-06\n",
            "Epoch 34/100\n",
            " - 180s - loss: 7.2471e-06 - val_loss: 7.0844e-06\n",
            "Epoch 35/100\n",
            " - 177s - loss: 6.9071e-06 - val_loss: 6.7555e-06\n",
            "Epoch 36/100\n",
            " - 176s - loss: 6.5128e-06 - val_loss: 6.2985e-06\n",
            "Epoch 37/100\n",
            " - 176s - loss: 6.1748e-06 - val_loss: 5.9435e-06\n",
            "Epoch 38/100\n",
            " - 176s - loss: 5.8622e-06 - val_loss: 5.8327e-06\n",
            "Epoch 39/100\n",
            " - 178s - loss: 5.6284e-06 - val_loss: 5.4041e-06\n",
            "Epoch 40/100\n",
            " - 177s - loss: 5.3711e-06 - val_loss: 5.2899e-06\n",
            "Epoch 41/100\n",
            " - 176s - loss: 5.1821e-06 - val_loss: 5.0409e-06\n",
            "Epoch 42/100\n",
            " - 176s - loss: 4.9900e-06 - val_loss: 4.9342e-06\n",
            "Epoch 43/100\n",
            " - 175s - loss: 4.8199e-06 - val_loss: 4.6388e-06\n",
            "Epoch 44/100\n",
            " - 177s - loss: 4.6418e-06 - val_loss: 4.4883e-06\n",
            "Epoch 45/100\n",
            " - 177s - loss: 4.4740e-06 - val_loss: 4.3210e-06\n",
            "Epoch 46/100\n",
            " - 176s - loss: 4.3206e-06 - val_loss: 4.1485e-06\n",
            "Epoch 47/100\n",
            " - 177s - loss: 4.1455e-06 - val_loss: 4.0841e-06\n",
            "Epoch 48/100\n",
            " - 177s - loss: 3.9538e-06 - val_loss: 3.7824e-06\n",
            "Epoch 49/100\n",
            " - 177s - loss: 3.7662e-06 - val_loss: 3.5887e-06\n",
            "Epoch 50/100\n",
            " - 176s - loss: 3.5632e-06 - val_loss: 3.4692e-06\n",
            "Epoch 51/100\n",
            " - 176s - loss: 3.3570e-06 - val_loss: 3.1728e-06\n",
            "Epoch 52/100\n",
            " - 177s - loss: 3.1556e-06 - val_loss: 3.0343e-06\n",
            "Epoch 53/100\n",
            " - 177s - loss: 2.9549e-06 - val_loss: 2.8099e-06\n",
            "Epoch 54/100\n",
            " - 176s - loss: 2.7777e-06 - val_loss: 2.6306e-06\n",
            "Epoch 55/100\n",
            " - 177s - loss: 2.6142e-06 - val_loss: 2.4920e-06\n",
            "Epoch 56/100\n",
            " - 177s - loss: 2.4689e-06 - val_loss: 2.3292e-06\n",
            "Epoch 57/100\n",
            " - 177s - loss: 2.3222e-06 - val_loss: 2.2217e-06\n",
            "Epoch 58/100\n",
            " - 177s - loss: 2.2024e-06 - val_loss: 2.0871e-06\n",
            "Epoch 59/100\n",
            " - 177s - loss: 2.0851e-06 - val_loss: 1.9868e-06\n",
            "Epoch 60/100\n",
            " - 177s - loss: 1.9893e-06 - val_loss: 1.9073e-06\n",
            "Epoch 61/100\n",
            " - 179s - loss: 1.9092e-06 - val_loss: 1.8342e-06\n",
            "Epoch 62/100\n",
            " - 177s - loss: 1.8432e-06 - val_loss: 1.7786e-06\n",
            "Epoch 63/100\n",
            " - 176s - loss: 1.7958e-06 - val_loss: 1.7245e-06\n",
            "Epoch 64/100\n",
            " - 177s - loss: 1.7466e-06 - val_loss: 1.6840e-06\n",
            "Epoch 65/100\n",
            " - 178s - loss: 1.7173e-06 - val_loss: 1.6545e-06\n",
            "Epoch 66/100\n",
            " - 177s - loss: 1.6860e-06 - val_loss: 1.6326e-06\n",
            "Epoch 67/100\n",
            " - 177s - loss: 1.6614e-06 - val_loss: 1.6033e-06\n",
            "Epoch 68/100\n",
            " - 177s - loss: 1.6415e-06 - val_loss: 1.6081e-06\n",
            "Epoch 69/100\n",
            " - 176s - loss: 1.6239e-06 - val_loss: 1.6056e-06\n",
            "Epoch 70/100\n",
            " - 179s - loss: 1.6131e-06 - val_loss: 1.5835e-06\n",
            "Epoch 71/100\n",
            " - 177s - loss: 1.5940e-06 - val_loss: 1.5493e-06\n",
            "Epoch 72/100\n",
            " - 177s - loss: 1.5903e-06 - val_loss: 1.5838e-06\n",
            "Epoch 73/100\n",
            " - 177s - loss: 1.5737e-06 - val_loss: 1.5220e-06\n",
            "Epoch 74/100\n",
            " - 177s - loss: 1.5683e-06 - val_loss: 1.5205e-06\n",
            "Epoch 75/100\n",
            " - 177s - loss: 1.5616e-06 - val_loss: 1.5054e-06\n",
            "Epoch 76/100\n",
            " - 177s - loss: 1.5548e-06 - val_loss: 1.5005e-06\n",
            "Epoch 77/100\n",
            " - 178s - loss: 1.5437e-06 - val_loss: 1.5210e-06\n",
            "Epoch 78/100\n",
            " - 176s - loss: 1.5374e-06 - val_loss: 1.4915e-06\n",
            "Epoch 79/100\n",
            " - 175s - loss: 1.5333e-06 - val_loss: 1.4894e-06\n",
            "Epoch 80/100\n",
            " - 178s - loss: 1.5279e-06 - val_loss: 1.4776e-06\n",
            "Epoch 81/100\n",
            " - 177s - loss: 1.5305e-06 - val_loss: 1.4717e-06\n",
            "Epoch 82/100\n",
            " - 177s - loss: 1.5168e-06 - val_loss: 1.5267e-06\n",
            "Epoch 83/100\n",
            " - 177s - loss: 1.5136e-06 - val_loss: 1.4712e-06\n",
            "Epoch 84/100\n",
            " - 176s - loss: 1.5083e-06 - val_loss: 1.4580e-06\n",
            "Epoch 85/100\n",
            " - 176s - loss: 1.5069e-06 - val_loss: 1.5187e-06\n",
            "Epoch 86/100\n",
            " - 178s - loss: 1.5051e-06 - val_loss: 1.4541e-06\n",
            "Epoch 87/100\n",
            " - 182s - loss: 1.4994e-06 - val_loss: 1.4482e-06\n",
            "Epoch 88/100\n",
            " - 182s - loss: 1.4947e-06 - val_loss: 1.4720e-06\n",
            "Epoch 89/100\n",
            " - 181s - loss: 1.4943e-06 - val_loss: 1.4433e-06\n",
            "Epoch 90/100\n",
            " - 181s - loss: 1.4884e-06 - val_loss: 1.4391e-06\n",
            "Epoch 91/100\n",
            " - 181s - loss: 1.4865e-06 - val_loss: 1.4380e-06\n",
            "Epoch 92/100\n",
            " - 180s - loss: 1.4813e-06 - val_loss: 1.4409e-06\n",
            "Epoch 93/100\n",
            " - 179s - loss: 1.4827e-06 - val_loss: 1.4281e-06\n",
            "Epoch 94/100\n",
            " - 177s - loss: 1.4799e-06 - val_loss: 1.4321e-06\n",
            "Epoch 95/100\n",
            " - 177s - loss: 1.4710e-06 - val_loss: 1.4222e-06\n",
            "Epoch 96/100\n",
            " - 178s - loss: 1.4756e-06 - val_loss: 1.4277e-06\n",
            "Epoch 97/100\n",
            " - 177s - loss: 1.4701e-06 - val_loss: 1.4599e-06\n",
            "Epoch 98/100\n",
            " - 178s - loss: 1.4697e-06 - val_loss: 1.4477e-06\n",
            "Epoch 99/100\n",
            " - 177s - loss: 1.4640e-06 - val_loss: 1.4288e-06\n",
            "Epoch 100/100\n",
            " - 176s - loss: 1.4615e-06 - val_loss: 1.4160e-06\n"
          ],
          "name": "stdout"
        }
      ]
    },
    {
      "cell_type": "code",
      "metadata": {
        "id": "-FjdXmqFjcla",
        "colab_type": "code",
        "colab": {
          "base_uri": "https://localhost:8080/",
          "height": 237
        },
        "outputId": "724504b0-0a0b-4b44-ab0b-691a90cb4c04"
      },
      "source": [
        "plt.plot(lstm_autoencoder_history['loss'], linewidth=2, label='Train')\n",
        "plt.plot(lstm_autoencoder_history['val_loss'], linewidth=2, label='Valid')\n",
        "plt.legend(loc='upper right')\n",
        "plt.title('Model loss')\n",
        "plt.ylabel('Loss')\n",
        "plt.xlabel('Epoch')\n",
        "plt.yscale(\"log\")\n",
        "plt.show()"
      ],
      "execution_count": null,
      "outputs": [
        {
          "output_type": "error",
          "ename": "NameError",
          "evalue": "ignored",
          "traceback": [
            "\u001b[0;31m---------------------------------------------------------------------------\u001b[0m",
            "\u001b[0;31mNameError\u001b[0m                                 Traceback (most recent call last)",
            "\u001b[0;32m<ipython-input-1-9dc4019940c3>\u001b[0m in \u001b[0;36m<module>\u001b[0;34m()\u001b[0m\n\u001b[0;32m----> 1\u001b[0;31m \u001b[0mplt\u001b[0m\u001b[0;34m.\u001b[0m\u001b[0mplot\u001b[0m\u001b[0;34m(\u001b[0m\u001b[0mlstm_autoencoder_history\u001b[0m\u001b[0;34m[\u001b[0m\u001b[0;34m'loss'\u001b[0m\u001b[0;34m]\u001b[0m\u001b[0;34m,\u001b[0m \u001b[0mlinewidth\u001b[0m\u001b[0;34m=\u001b[0m\u001b[0;36m2\u001b[0m\u001b[0;34m,\u001b[0m \u001b[0mlabel\u001b[0m\u001b[0;34m=\u001b[0m\u001b[0;34m'Train'\u001b[0m\u001b[0;34m)\u001b[0m\u001b[0;34m\u001b[0m\u001b[0;34m\u001b[0m\u001b[0m\n\u001b[0m\u001b[1;32m      2\u001b[0m \u001b[0mplt\u001b[0m\u001b[0;34m.\u001b[0m\u001b[0mplot\u001b[0m\u001b[0;34m(\u001b[0m\u001b[0mlstm_autoencoder_history\u001b[0m\u001b[0;34m[\u001b[0m\u001b[0;34m'val_loss'\u001b[0m\u001b[0;34m]\u001b[0m\u001b[0;34m,\u001b[0m \u001b[0mlinewidth\u001b[0m\u001b[0;34m=\u001b[0m\u001b[0;36m2\u001b[0m\u001b[0;34m,\u001b[0m \u001b[0mlabel\u001b[0m\u001b[0;34m=\u001b[0m\u001b[0;34m'Valid'\u001b[0m\u001b[0;34m)\u001b[0m\u001b[0;34m\u001b[0m\u001b[0;34m\u001b[0m\u001b[0m\n\u001b[1;32m      3\u001b[0m \u001b[0mplt\u001b[0m\u001b[0;34m.\u001b[0m\u001b[0mlegend\u001b[0m\u001b[0;34m(\u001b[0m\u001b[0mloc\u001b[0m\u001b[0;34m=\u001b[0m\u001b[0;34m'upper right'\u001b[0m\u001b[0;34m)\u001b[0m\u001b[0;34m\u001b[0m\u001b[0;34m\u001b[0m\u001b[0m\n\u001b[1;32m      4\u001b[0m \u001b[0mplt\u001b[0m\u001b[0;34m.\u001b[0m\u001b[0mtitle\u001b[0m\u001b[0;34m(\u001b[0m\u001b[0;34m'Model loss'\u001b[0m\u001b[0;34m)\u001b[0m\u001b[0;34m\u001b[0m\u001b[0;34m\u001b[0m\u001b[0m\n\u001b[1;32m      5\u001b[0m \u001b[0mplt\u001b[0m\u001b[0;34m.\u001b[0m\u001b[0mylabel\u001b[0m\u001b[0;34m(\u001b[0m\u001b[0;34m'Loss'\u001b[0m\u001b[0;34m)\u001b[0m\u001b[0;34m\u001b[0m\u001b[0;34m\u001b[0m\u001b[0m\n",
            "\u001b[0;31mNameError\u001b[0m: name 'plt' is not defined"
          ]
        }
      ]
    },
    {
      "cell_type": "code",
      "metadata": {
        "id": "dykiNf3ll1FF",
        "colab_type": "code",
        "colab": {}
      },
      "source": [
        "X_valid_all = np.stack(df_valid['histo'].values, axis=0)\n",
        "X_valid_all_norm=normalize(X_valid_all, norm='l1', axis=1)\n",
        "\n",
        "valid_x_predictions = autoencoder.predict(X_valid_all_norm)\n",
        "#mse = np.mean(np.power(df_valid_x_rescaled - valid_x_predictions, 2), axis=1)\n",
        "mse_valid=K.eval(mseTop10(X_valid_all_norm, valid_x_predictions))\n",
        "error_df = pd.DataFrame({'Reconstruction_error': mse_valid,\n",
        "                        'True_class': df_valid['labels']})\n",
        "precision_rt, recall_rt, threshold_rt = precision_recall_curve(error_df.True_class, error_df.Reconstruction_error)\n",
        "plt.plot(threshold_rt, precision_rt[1:], label=\"Precision\",linewidth=5)\n",
        "plt.plot(threshold_rt, recall_rt[1:], label=\"Recall\",linewidth=5)\n",
        "plt.title('Precision and recall for different threshold values')\n",
        "plt.xlabel('Threshold')\n",
        "plt.ylabel('Precision/Recall')\n",
        "plt.legend()\n",
        "plt.show()"
      ],
      "execution_count": null,
      "outputs": []
    },
    {
      "cell_type": "code",
      "metadata": {
        "id": "U_5SaoSO8463",
        "colab_type": "code",
        "colab": {
          "base_uri": "https://localhost:8080/",
          "height": 521
        },
        "outputId": "1b9c068f-266d-4232-b895-064fb637f18d"
      },
      "source": [
        "0#extract test and train data and put in dataframes\n",
        "\n",
        "#df_train=df.loc[df['labels']==True]\n",
        "#df_test=df.loc[df['labels']==False]\n",
        "X_trainCol = np.stack(df['histo'][df['labels']==True].values, axis=1) #convert list of array to a stack to feed the model\n",
        "X_testCol = np.stack(df['histo'][df['labels']==False].values, axis=1)\n",
        "X_trainS = np.stack(df['histo'][df['labels']==True].values, axis=0) #convert list of array to a stack to feed the model\n",
        "X_testS = np.stack(df['histo'][df['labels']==False].values, axis=0)\n",
        "\n",
        "print(X_trainCol.shape , X_trainS.shape)\n",
        "print(X_trainCol)\n",
        "print(X_trainS)\n",
        "\n",
        "from sklearn.preprocessing import normalize\n",
        "\n",
        "X_train=normalize(X_trainS, norm='l1', axis=1) #normalise the sample, i.e the rows\n",
        "X_test=normalize(X_testS, norm='l1', axis=1)\n",
        "print(X_train)\n",
        "                      \n",
        "df['origin']=''\n",
        "df['origin'].loc[df['labels']==True]=X_train.tolist()\n",
        "df['origin'].loc[df['labels']==False]=X_test.tolist()\n",
        "print(df.shape)\n",
        "print(df.origin.shape)"
      ],
      "execution_count": null,
      "outputs": [
        {
          "output_type": "stream",
          "text": [
            "(100, 202299) (202299, 100)\n",
            "[[ 33  43  34 ...  11   6   0]\n",
            " [213 201 241 ...  43  47   2]\n",
            " [426 389 362 ...  74  62   1]\n",
            " ...\n",
            " [ 54  65  43 ...   0   2   0]\n",
            " [ 52  74  49 ...   0   0   0]\n",
            " [ 67  50  55 ...   0   0   0]]\n",
            "[[ 33 213 426 ...  54  52  67]\n",
            " [ 43 201 389 ...  65  74  50]\n",
            " [ 34 241 362 ...  43  49  55]\n",
            " ...\n",
            " [ 11  43  74 ...   0   0   0]\n",
            " [  6  47  62 ...   2   0   0]\n",
            " [  0   2   1 ...   0   0   0]]\n",
            "[[0.0001941  0.00125283 0.00250566 ... 0.00031762 0.00030586 0.00039408]\n",
            " [0.00026486 0.00123807 0.00239607 ... 0.00040037 0.00045581 0.00030798]\n",
            " [0.00021593 0.00153059 0.00229905 ... 0.00027309 0.0003112  0.0003493 ]\n",
            " ...\n",
            " [0.00108868 0.00425574 0.00732383 ... 0.         0.         0.        ]\n",
            " [0.00059137 0.00463237 0.00611078 ... 0.00019712 0.         0.        ]\n",
            " [0.         0.00611621 0.0030581  ... 0.         0.         0.        ]]\n"
          ],
          "name": "stdout"
        },
        {
          "output_type": "stream",
          "text": [
            "/usr/local/lib/python3.6/dist-packages/pandas/core/indexing.py:671: SettingWithCopyWarning: \n",
            "A value is trying to be set on a copy of a slice from a DataFrame\n",
            "\n",
            "See the caveats in the documentation: https://pandas.pydata.org/pandas-docs/stable/user_guide/indexing.html#returning-a-view-versus-a-copy\n",
            "  self._setitem_with_indexer(indexer, value)\n"
          ],
          "name": "stderr"
        },
        {
          "output_type": "stream",
          "text": [
            "(225954, 12)\n",
            "(225954,)\n"
          ],
          "name": "stdout"
        }
      ]
    },
    {
      "cell_type": "code",
      "metadata": {
        "id": "2tcZI-bxZbEH",
        "colab_type": "code",
        "colab": {
          "base_uri": "https://localhost:8080/",
          "height": 872
        },
        "outputId": "b358ddb2-3664-4956-86a4-21d17332be75"
      },
      "source": [
        "color = {False:'red', True:'green'}\n",
        "Bad=df[df['labels']==False]\n",
        "Good=df[df['labels']==True]\n",
        "#fraudlist = creditData[creditData.Class == 1]\n",
        "#normal = creditData[creditData.Class == 0]\n",
        "fig,axes = plt.subplots(1,2)\n",
        "axes[0].scatter(list(range(1,Bad.shape[0] + 1)), X_train, color='red')\n",
        "axes[1].scatter(list(range(1, Good.shape[0] + 1)),X_test, color='green')\n",
        "plt.show()"
      ],
      "execution_count": null,
      "outputs": [
        {
          "output_type": "error",
          "ename": "ValueError",
          "evalue": "ignored",
          "traceback": [
            "\u001b[0;31m---------------------------------------------------------------------------\u001b[0m",
            "\u001b[0;31mValueError\u001b[0m                                Traceback (most recent call last)",
            "\u001b[0;32m<ipython-input-15-00cbdfdf7950>\u001b[0m in \u001b[0;36m<module>\u001b[0;34m()\u001b[0m\n\u001b[1;32m      5\u001b[0m \u001b[0;31m#normal = creditData[creditData.Class == 0]\u001b[0m\u001b[0;34m\u001b[0m\u001b[0;34m\u001b[0m\u001b[0;34m\u001b[0m\u001b[0m\n\u001b[1;32m      6\u001b[0m \u001b[0mfig\u001b[0m\u001b[0;34m,\u001b[0m\u001b[0maxes\u001b[0m \u001b[0;34m=\u001b[0m \u001b[0mplt\u001b[0m\u001b[0;34m.\u001b[0m\u001b[0msubplots\u001b[0m\u001b[0;34m(\u001b[0m\u001b[0;36m1\u001b[0m\u001b[0;34m,\u001b[0m\u001b[0;36m2\u001b[0m\u001b[0;34m)\u001b[0m\u001b[0;34m\u001b[0m\u001b[0;34m\u001b[0m\u001b[0m\n\u001b[0;32m----> 7\u001b[0;31m \u001b[0maxes\u001b[0m\u001b[0;34m[\u001b[0m\u001b[0;36m0\u001b[0m\u001b[0;34m]\u001b[0m\u001b[0;34m.\u001b[0m\u001b[0mscatter\u001b[0m\u001b[0;34m(\u001b[0m\u001b[0mlist\u001b[0m\u001b[0;34m(\u001b[0m\u001b[0mrange\u001b[0m\u001b[0;34m(\u001b[0m\u001b[0;36m1\u001b[0m\u001b[0;34m,\u001b[0m\u001b[0mBad\u001b[0m\u001b[0;34m.\u001b[0m\u001b[0mshape\u001b[0m\u001b[0;34m[\u001b[0m\u001b[0;36m0\u001b[0m\u001b[0;34m]\u001b[0m \u001b[0;34m+\u001b[0m \u001b[0;36m1\u001b[0m\u001b[0;34m)\u001b[0m\u001b[0;34m)\u001b[0m\u001b[0;34m,\u001b[0m \u001b[0mX_train\u001b[0m\u001b[0;34m,\u001b[0m \u001b[0mcolor\u001b[0m\u001b[0;34m=\u001b[0m\u001b[0;34m'red'\u001b[0m\u001b[0;34m)\u001b[0m\u001b[0;34m\u001b[0m\u001b[0;34m\u001b[0m\u001b[0m\n\u001b[0m\u001b[1;32m      8\u001b[0m \u001b[0maxes\u001b[0m\u001b[0;34m[\u001b[0m\u001b[0;36m1\u001b[0m\u001b[0;34m]\u001b[0m\u001b[0;34m.\u001b[0m\u001b[0mscatter\u001b[0m\u001b[0;34m(\u001b[0m\u001b[0mlist\u001b[0m\u001b[0;34m(\u001b[0m\u001b[0mrange\u001b[0m\u001b[0;34m(\u001b[0m\u001b[0;36m1\u001b[0m\u001b[0;34m,\u001b[0m \u001b[0mGood\u001b[0m\u001b[0;34m.\u001b[0m\u001b[0mshape\u001b[0m\u001b[0;34m[\u001b[0m\u001b[0;36m0\u001b[0m\u001b[0;34m]\u001b[0m \u001b[0;34m+\u001b[0m \u001b[0;36m1\u001b[0m\u001b[0;34m)\u001b[0m\u001b[0;34m)\u001b[0m\u001b[0;34m,\u001b[0m\u001b[0mX_test\u001b[0m\u001b[0;34m,\u001b[0m \u001b[0mcolor\u001b[0m\u001b[0;34m=\u001b[0m\u001b[0;34m'green'\u001b[0m\u001b[0;34m)\u001b[0m\u001b[0;34m\u001b[0m\u001b[0;34m\u001b[0m\u001b[0m\n\u001b[1;32m      9\u001b[0m \u001b[0mplt\u001b[0m\u001b[0;34m.\u001b[0m\u001b[0mshow\u001b[0m\u001b[0;34m(\u001b[0m\u001b[0;34m)\u001b[0m\u001b[0;34m\u001b[0m\u001b[0;34m\u001b[0m\u001b[0m\n",
            "\u001b[0;32m/usr/local/lib/python3.6/dist-packages/matplotlib/__init__.py\u001b[0m in \u001b[0;36minner\u001b[0;34m(ax, data, *args, **kwargs)\u001b[0m\n\u001b[1;32m   1563\u001b[0m     \u001b[0;32mdef\u001b[0m \u001b[0minner\u001b[0m\u001b[0;34m(\u001b[0m\u001b[0max\u001b[0m\u001b[0;34m,\u001b[0m \u001b[0;34m*\u001b[0m\u001b[0margs\u001b[0m\u001b[0;34m,\u001b[0m \u001b[0mdata\u001b[0m\u001b[0;34m=\u001b[0m\u001b[0;32mNone\u001b[0m\u001b[0;34m,\u001b[0m \u001b[0;34m**\u001b[0m\u001b[0mkwargs\u001b[0m\u001b[0;34m)\u001b[0m\u001b[0;34m:\u001b[0m\u001b[0;34m\u001b[0m\u001b[0;34m\u001b[0m\u001b[0m\n\u001b[1;32m   1564\u001b[0m         \u001b[0;32mif\u001b[0m \u001b[0mdata\u001b[0m \u001b[0;32mis\u001b[0m \u001b[0;32mNone\u001b[0m\u001b[0;34m:\u001b[0m\u001b[0;34m\u001b[0m\u001b[0;34m\u001b[0m\u001b[0m\n\u001b[0;32m-> 1565\u001b[0;31m             \u001b[0;32mreturn\u001b[0m \u001b[0mfunc\u001b[0m\u001b[0;34m(\u001b[0m\u001b[0max\u001b[0m\u001b[0;34m,\u001b[0m \u001b[0;34m*\u001b[0m\u001b[0mmap\u001b[0m\u001b[0;34m(\u001b[0m\u001b[0msanitize_sequence\u001b[0m\u001b[0;34m,\u001b[0m \u001b[0margs\u001b[0m\u001b[0;34m)\u001b[0m\u001b[0;34m,\u001b[0m \u001b[0;34m**\u001b[0m\u001b[0mkwargs\u001b[0m\u001b[0;34m)\u001b[0m\u001b[0;34m\u001b[0m\u001b[0;34m\u001b[0m\u001b[0m\n\u001b[0m\u001b[1;32m   1566\u001b[0m \u001b[0;34m\u001b[0m\u001b[0m\n\u001b[1;32m   1567\u001b[0m         \u001b[0mbound\u001b[0m \u001b[0;34m=\u001b[0m \u001b[0mnew_sig\u001b[0m\u001b[0;34m.\u001b[0m\u001b[0mbind\u001b[0m\u001b[0;34m(\u001b[0m\u001b[0max\u001b[0m\u001b[0;34m,\u001b[0m \u001b[0;34m*\u001b[0m\u001b[0margs\u001b[0m\u001b[0;34m,\u001b[0m \u001b[0;34m**\u001b[0m\u001b[0mkwargs\u001b[0m\u001b[0;34m)\u001b[0m\u001b[0;34m\u001b[0m\u001b[0;34m\u001b[0m\u001b[0m\n",
            "\u001b[0;32m/usr/local/lib/python3.6/dist-packages/matplotlib/cbook/deprecation.py\u001b[0m in \u001b[0;36mwrapper\u001b[0;34m(*args, **kwargs)\u001b[0m\n\u001b[1;32m    356\u001b[0m                 \u001b[0;34mf\"%(removal)s.  If any parameter follows {name!r}, they \"\u001b[0m\u001b[0;34m\u001b[0m\u001b[0;34m\u001b[0m\u001b[0m\n\u001b[1;32m    357\u001b[0m                 f\"should be pass as keyword, not positionally.\")\n\u001b[0;32m--> 358\u001b[0;31m         \u001b[0;32mreturn\u001b[0m \u001b[0mfunc\u001b[0m\u001b[0;34m(\u001b[0m\u001b[0;34m*\u001b[0m\u001b[0margs\u001b[0m\u001b[0;34m,\u001b[0m \u001b[0;34m**\u001b[0m\u001b[0mkwargs\u001b[0m\u001b[0;34m)\u001b[0m\u001b[0;34m\u001b[0m\u001b[0;34m\u001b[0m\u001b[0m\n\u001b[0m\u001b[1;32m    359\u001b[0m \u001b[0;34m\u001b[0m\u001b[0m\n\u001b[1;32m    360\u001b[0m     \u001b[0;32mreturn\u001b[0m \u001b[0mwrapper\u001b[0m\u001b[0;34m\u001b[0m\u001b[0;34m\u001b[0m\u001b[0m\n",
            "\u001b[0;32m/usr/local/lib/python3.6/dist-packages/matplotlib/axes/_axes.py\u001b[0m in \u001b[0;36mscatter\u001b[0;34m(self, x, y, s, c, marker, cmap, norm, vmin, vmax, alpha, linewidths, verts, edgecolors, plotnonfinite, **kwargs)\u001b[0m\n\u001b[1;32m   4378\u001b[0m         \u001b[0my\u001b[0m \u001b[0;34m=\u001b[0m \u001b[0mnp\u001b[0m\u001b[0;34m.\u001b[0m\u001b[0mma\u001b[0m\u001b[0;34m.\u001b[0m\u001b[0mravel\u001b[0m\u001b[0;34m(\u001b[0m\u001b[0my\u001b[0m\u001b[0;34m)\u001b[0m\u001b[0;34m\u001b[0m\u001b[0;34m\u001b[0m\u001b[0m\n\u001b[1;32m   4379\u001b[0m         \u001b[0;32mif\u001b[0m \u001b[0mx\u001b[0m\u001b[0;34m.\u001b[0m\u001b[0msize\u001b[0m \u001b[0;34m!=\u001b[0m \u001b[0my\u001b[0m\u001b[0;34m.\u001b[0m\u001b[0msize\u001b[0m\u001b[0;34m:\u001b[0m\u001b[0;34m\u001b[0m\u001b[0;34m\u001b[0m\u001b[0m\n\u001b[0;32m-> 4380\u001b[0;31m             \u001b[0;32mraise\u001b[0m \u001b[0mValueError\u001b[0m\u001b[0;34m(\u001b[0m\u001b[0;34m\"x and y must be the same size\"\u001b[0m\u001b[0;34m)\u001b[0m\u001b[0;34m\u001b[0m\u001b[0;34m\u001b[0m\u001b[0m\n\u001b[0m\u001b[1;32m   4381\u001b[0m \u001b[0;34m\u001b[0m\u001b[0m\n\u001b[1;32m   4382\u001b[0m         \u001b[0;32mif\u001b[0m \u001b[0ms\u001b[0m \u001b[0;32mis\u001b[0m \u001b[0;32mNone\u001b[0m\u001b[0;34m:\u001b[0m\u001b[0;34m\u001b[0m\u001b[0;34m\u001b[0m\u001b[0m\n",
            "\u001b[0;31mValueError\u001b[0m: x and y must be the same size"
          ]
        },
        {
          "output_type": "display_data",
          "data": {
            "image/png": "[encoded data removed]",
            "text/plain": [
              "<Figure size 720x576 with 2 Axes>"
            ]
          },
          "metadata": {
            "tags": [],
            "needs_background": "light"
          }
        }
      ]
    },
    {
      "cell_type": "code",
      "metadata": {
        "id": "uwgrqBoqd59l",
        "colab_type": "code",
        "colab": {}
      },
      "source": [
        "array_good=np.array(X_trainCol)\n",
        "array_bad = np.array(X_testCol)\n",
        "\n",
        "mean_good=np.mean(array_good, axis=1)\n",
        "mean_bad=np.mean(array_bad, axis=1)\n",
        "\n",
        "std_good=np.std(array_good, axis=1)\n",
        "std_bad = np.std(array_bad, axis=1)\n",
        "\n",
        "print(mean_good.shape)\n",
        "print(std_good.shape)\n",
        "print(mean_good)\n",
        "print(std_good)\n",
        "\n",
        "\n",
        "#bin =[]\n",
        "\n",
        "#for i in range(1,101):\n",
        "#    bin.append(i)\n",
        "\n",
        "#print(bin)    \n",
        "#np.reshape(bin, (100,1))\n",
        "#print(bin.shape)\n",
        "bin=np.arange(1,101)\n",
        "bin.shape\n",
        "\n",
        "#np.reshape(bin, (100,1))\n",
        "#plt.plot(bin,mean_good)\n",
        "plt.figure(1)\n",
        "plt.errorbar(bin, mean_good, yerr=std_good, ecolor = 'green', label='both limits (default)')\n",
        "plt.figure(2)\n",
        "plt.errorbar(bin, mean_bad, yerr=std_bad, ecolor = 'red', label='both limits (default)')\n",
        "plt.figure(3)\n",
        "plt.errorbar(bin, mean_good, yerr=std_good, ecolor = 'green', label='both limits (default)')\n",
        "plt.errorbar(bin, mean_bad, yerr=std_bad, ecolor = 'red', label='both limits (default)')\n",
        "plt.show()\n",
        "plt.figure(4)\n",
        "plt.plot(bin, mean_good, color = 'green')\n",
        "plt.plot(bin, mean_bad, color = 'red')\n",
        "plt.figure(5)\n",
        "plt.plot(bin, std_good, color = 'green')\n",
        "plt.plot(bin, std_bad, color = 'red')\n",
        "plt.show()\n"
      ],
      "execution_count": null,
      "outputs": []
    },
    {
      "cell_type": "code",
      "metadata": {
        "id": "34nA2L7M8467",
        "colab_type": "code",
        "colab": {}
      },
      "source": [
        "#build the model\n",
        "import math\n",
        "from keras.callbacks import ModelCheckpoint, EarlyStopping\n",
        "from keras.layers import Input\n",
        "from keras.layers.advanced_activations import PReLU\n",
        "from keras.models import Model\n",
        "from keras import backend as K\n",
        "import tensorflow as tf\n",
        "from keras.models import load_model\n",
        "\n",
        "def mseTop10(y_true, y_pred):\n",
        "    top_values, _ = tf.nn.top_k(K.square(y_pred - y_true), k=10, sorted=True)\n",
        "    mean=K.mean(top_values, axis=-1)\n",
        "    return mean\n",
        "\n",
        "\n",
        "input_size=len(X_train[0])\n",
        "print(input_size)\n",
        "input_layer = Input(shape=(input_size, ))\n",
        "encoded = Dense(10, activation='tanh')(input_layer)\n",
        "encoded1 = Dense(3, activation='tanh')(encoded)\n",
        "encoded2 = Dense(10, activation='tanh')(encoded1)\n",
        "decoder = Dense(input_size, activation='tanh')(encoded2)\n",
        "\n",
        "autoencoder = Model(inputs=input_layer, outputs=decoder)\n",
        "autoencoder.compile(optimizer='adam', loss=mseTop10)\n",
        "\n",
        "for i, layer in enumerate(autoencoder.layers):\n",
        "             layer.name = 'layer_' + str(i)\n",
        "\n",
        "autoencoder.summary()"
      ],
      "execution_count": null,
      "outputs": []
    },
    {
      "cell_type": "code",
      "metadata": {
        "id": "IN0Iml9P846_",
        "colab_type": "code",
        "colab": {}
      },
      "source": [
        "history = autoencoder.fit(X_train,X_train, epochs=100, batch_size=500, shuffle=False, verbose=1,validation_split=0.1)"
      ],
      "execution_count": null,
      "outputs": []
    },
    {
      "cell_type": "code",
      "metadata": {
        "id": "sNYt4TU7847E",
        "colab_type": "code",
        "colab": {}
      },
      "source": [
        "#print(history)\n",
        "\n",
        "line_styles = [(0, ()), (0, (1, 3)), (0, (3, 2))]\n",
        "\n",
        "color_palette = {\"Indigo\": {\n",
        "                    50: \"#E8EAF6\",\n",
        "                    100: \"#C5CAE9\",\n",
        "                    200: \"#9FA8DA\",\n",
        "                    300: \"#7986CB\",\n",
        "                    400: \"#5C6BC0\",\n",
        "                    500: \"#3F51B5\",\n",
        "                    600: \"#3949AB\",\n",
        "                    700: \"#303F9F\",\n",
        "                    800: \"#283593\",\n",
        "                    900: \"#1A237E\"},\n",
        "                 \"Teal\": {      \n",
        "                    50: \"#E0F2F1\",\n",
        "                    100: \"#B2DFDB\",\n",
        "                    200: \"#80CBC4\",\n",
        "                    300: \"#4DB6AC\",\n",
        "                    400: \"#26A69A\",\n",
        "                    500: \"#009688\",\n",
        "                    600: \"#00897B\",\n",
        "                    700: \"#00796B\",\n",
        "                    800: \"#00695C\",\n",
        "                    900: \"#004D40\"}\n",
        "                }\n",
        "\n",
        "def plot_loss(data, title):\n",
        "    \"\"\"Plots the training and validation loss\"\"\"\n",
        "    plt.figure()\n",
        "    plt.xlabel(\"Epoch\")\n",
        "    plt.ylabel(\"Loss\")\n",
        "    plt.title(title)\n",
        "    plt.plot(data.history['loss'], linestyle=line_styles[0], color=color_palette[\"Indigo\"][900], linewidth=3)\n",
        "    plt.plot(data.history['val_loss'], linestyle=line_styles[2], color=color_palette[\"Teal\"][300], linewidth=3)\n",
        "    plt.legend([\"Train\", \"Validation\"], loc=\"upper right\", frameon=False)\n",
        "    #plt.ylim(8258339,8258400)\n",
        "    plt.yscale(\"log\")\n",
        "    plt.xlim(0,100)\n",
        "    plt.show();\n",
        "\n",
        "plot_loss(history, \"Original model loss\")"
      ],
      "execution_count": null,
      "outputs": []
    },
    {
      "cell_type": "code",
      "metadata": {
        "id": "Oizgtn4YUdfU",
        "colab_type": "code",
        "colab": {}
      },
      "source": [
        "#LSTM\n",
        "from numpy import array\n",
        "from keras.models import Sequential\n",
        "from keras.models import Sequential\n",
        "from keras.layers import LSTM\n",
        "from keras.layers import Dense\n",
        "from keras.layers import RepeatVector\n",
        "from keras.layers import TimeDistributed\n",
        "from keras.utils import plot_model\n",
        "from keras.layers.advanced_activations import ReLU\n",
        "\n",
        "# define input sequence\n",
        "X_train_lstm=normalize(X_trainS, norm='l1', axis=1)\n",
        "X_test_lstm=normalize(X_testS, norm='l1', axis=1)\n",
        "                      \n",
        "df['lstm']=''\n",
        "df['lstm'].loc[df['labels']==True]=X_train_lstm.tolist()\n",
        "df['lstm'].loc[df['labels']==False]=X_test_lstm.tolist()\n",
        "\n",
        "#sequence = array([0.1, 0.2, 0.3, 0.4, 0.5, 0.6, 0.7, 0.8, 0.9])\n",
        "#print(sequence.shape)\n",
        "#n_in_seq = len(sequence)\n",
        "#print(n_in_seq)\n",
        "#sequence = sequence.reshape((1, n_in_seq, 1))\n",
        "#print(sequence.shape)\n",
        "\n",
        "# reshape input into [samples, timesteps, features]\n",
        "n_in = len(X_train_lstm[0])\n",
        "print(n_in)\n",
        "print(X_train_lstm.shape)\n",
        "X_train_lstm = X_train_lstm.reshape((202299, n_in, 1))\n",
        "print(X_train_lstm.shape)\n",
        "# define model\n",
        "n_in = len(X_train_lstm[0])\n",
        "model = Sequential()\n",
        "model.add(LSTM(10, activation='tanh', input_shape=(n_in,1)))\n",
        "model.add(RepeatVector(n_in))\n",
        "model.add(LSTM(10, activation='tanh', return_sequences=True))\n",
        "model.add(TimeDistributed(Dense(1)))\n",
        "model.compile(optimizer='adam', loss='mse')\n",
        "for i, layer in enumerate(model.layers):\n",
        "             layer.name = 'layer_' + str(i)\n",
        "\n",
        "model.summary()\n",
        "#history_lstm = model.fit(X_train_lstm,X_train_lstm, epochs=60, batch_size=500, shuffle=False, verbose=1,validation_split=0.1)\n",
        "# fit model\n",
        "#model.fit(sequence, sequence, epochs=300, verbose=0)\n",
        "#plot_model(model, show_shapes=True, to_file='reconstruct_lstm_autoencoder.png')"
      ],
      "execution_count": null,
      "outputs": []
    },
    {
      "cell_type": "code",
      "metadata": {
        "id": "DVcW28RruHaf",
        "colab_type": "code",
        "colab": {}
      },
      "source": [
        "#print(history)\n",
        "\n",
        "line_styles = [(0, ()), (0, (1, 3)), (0, (3, 2))]\n",
        "\n",
        "color_palette = {\"Indigo\": {\n",
        "                    50: \"#E8EAF6\",\n",
        "                    100: \"#C5CAE9\",\n",
        "                    200: \"#9FA8DA\",\n",
        "                    300: \"#7986CB\",\n",
        "                    400: \"#5C6BC0\",\n",
        "                    500: \"#3F51B5\",\n",
        "                    600: \"#3949AB\",\n",
        "                    700: \"#303F9F\",\n",
        "                    800: \"#283593\",\n",
        "                    900: \"#1A237E\"},\n",
        "                 \"Teal\": {      \n",
        "                    50: \"#E0F2F1\",\n",
        "                    100: \"#B2DFDB\",\n",
        "                    200: \"#80CBC4\",\n",
        "                    300: \"#4DB6AC\",\n",
        "                    400: \"#26A69A\",\n",
        "                    500: \"#009688\",\n",
        "                    600: \"#00897B\",\n",
        "                    700: \"#00796B\",\n",
        "                    800: \"#00695C\",\n",
        "                    900: \"#004D40\"}\n",
        "                }\n",
        "\n",
        "def plot_loss(data, title):\n",
        "    \"\"\"Plots the training and validation loss\"\"\"\n",
        "    plt.figure()\n",
        "    plt.xlabel(\"Epoch\")\n",
        "    plt.ylabel(\"Loss\")\n",
        "    plt.title(title)\n",
        "    plt.plot(data.history['loss'], linestyle=line_styles[0], color=color_palette[\"Indigo\"][900], linewidth=3)\n",
        "    plt.plot(data.history['val_loss'], linestyle=line_styles[2], color=color_palette[\"Teal\"][300], linewidth=3)\n",
        "    plt.legend([\"Train\", \"Validation\"], loc=\"upper right\", frameon=False)\n",
        "    #plt.ylim(8258339,8258400)\n",
        "    plt.yscale(\"log\")\n",
        "    plt.xlim(0,60)\n",
        "    plt.show();\n",
        "\n",
        "plot_loss(history_lstm, \"Original model loss for LSTM\")"
      ],
      "execution_count": null,
      "outputs": []
    },
    {
      "cell_type": "code",
      "metadata": {
        "id": "nMwfYomB847I",
        "colab_type": "code",
        "colab": {}
      },
      "source": [
        "predictionTest=autoencoder.predict(X_test)\n",
        "predictionTrain=autoencoder.predict(X_train)\n",
        "\n",
        "mseTest=K.eval(mseTop10(X_test, predictionTest))\n",
        "mseTrain=K.eval(mseTop10(X_train, predictionTrain))\n",
        "\n",
        "df['prediction']=\"\"\n",
        "df['mse']=\"\"\n",
        "\n",
        "df['prediction'].loc[df['labels']==True]=predictionTrain.tolist()\n",
        "df['prediction'].loc[df['labels']==False]=predictionTest.tolist()\n",
        "\n",
        "df['mse'].loc[df['labels']==True]=mseTrain\n",
        "df['mse'].loc[df['labels']==False]=mseTest\n",
        "\n",
        "print(df.head())\n",
        "#print(df_test.head())\n"
      ],
      "execution_count": null,
      "outputs": []
    },
    {
      "cell_type": "code",
      "metadata": {
        "id": "dwfnA8aT847N",
        "colab_type": "code",
        "colab": {}
      },
      "source": [
        "def globalMSETrend(df,type=1):\n",
        "    \n",
        "    y=[]\n",
        "    \n",
        "    rmax=0\n",
        "    rmin=10\n",
        "    \n",
        "    print(rmax, rmin)\n",
        "    for run in df['fromrun'].unique():\n",
        "        if (type==1): val=(df['mse'][run]).mean()\n",
        "        if (type==2): val=(df['mse2'][run]).mean()\n",
        "        if val > rmax: rmax=val\n",
        "        if val < rmin: rmin =val\n",
        "        y.append(val)\n",
        "    \n",
        "    array=np.array(y)\n",
        "    gmean=array.mean()\n",
        "    size=float(array.size)\n",
        "    gstd=array.std()\n",
        "    print(size)\n",
        "    \n",
        "    fig=plt.figure()\n",
        "    fig.set_size_inches(16, 9)\n",
        "    \n",
        "    plt.hlines(gmean,df['fromrun'].unique().min(), df['fromrun'].unique().max(), color=\"blue\", label=\"Run average: \" + str(gmean))\n",
        "    plt.hlines(gmean+(1.0*gstd), df['fromrun'].unique().min(), df['fromrun'].unique().max(), color=\"red\", label='1 SD (' + str(gstd) + \")\")\n",
        "    plt.hlines(gmean+(3.0*gstd), df['fromrun'].unique().min(), df['fromrun'].unique().max(), color=\"red\", label='3 SD', linestyle=':')\n",
        "    \n",
        "    plt.ylim(rmin*0.9,rmax*1.1)\n",
        "    plt.scatter(df['fromrun'].unique(), y, marker='+', label='Data points')\n",
        "    plt.xlabel(\"Run\")\n",
        "    plt.ylabel(\"average MSE\")\n",
        "    plt.legend()\n",
        "    plt.show()"
      ],
      "execution_count": null,
      "outputs": []
    },
    {
      "cell_type": "code",
      "metadata": {
        "id": "vXTdvYe-847Y",
        "colab_type": "code",
        "colab": {}
      },
      "source": [
        "globalMSETrend(df[df.labels==True])"
      ],
      "execution_count": null,
      "outputs": []
    },
    {
      "cell_type": "code",
      "metadata": {
        "id": "RUTWmHU9847f",
        "colab_type": "code",
        "colab": {}
      },
      "source": [
        "def CheckPredictions(df_test, run, ls):\n",
        "\n",
        "    Xmax=80000.0\n",
        "    Xmin=0.0\n",
        "    Xbins=100\n",
        "    hname=\"chargeInner_PXLayer_1\"\n",
        "    \n",
        "    ahisto=df_test['origin'][run][ls]\n",
        "    ahisto1=df_test['prediction'][run][ls]\n",
        "    mse=df_test['mse'][run][ls]\n",
        "    \n",
        "    x= np.linspace(Xmin,Xmax,Xbins)\n",
        "    #plt.xlim(Xmin,Xmax)\n",
        "    \n",
        "    plt.step(x, ahisto, where='mid', label=(\" Data \" + str(df_test.fromlumi[run][ls]) + \" Run \" + str(df_test.fromrun[run][ls]) ))\n",
        "    plt.step(x, ahisto1, where='mid', label=\" Reco MSE=\" + str(mse))\n",
        "    plt.xlabel(\"Charge electrons\")\n",
        "    plt.ylabel(\"A.U\")\n",
        "    plt.legend()\n",
        "    plt.show()"
      ],
      "execution_count": null,
      "outputs": []
    },
    {
      "cell_type": "code",
      "metadata": {
        "id": "AegPXiM2847l",
        "colab_type": "code",
        "colab": {}
      },
      "source": [
        "for run in df['fromrun'].unique():\n",
        "    count=0\n",
        "    for ls in df['fromlumi'][run]: \n",
        "        if df['labels'][run][ls]== False: continue\n",
        "        if (count >2): continue\n",
        "        count=count+1\n",
        "        #CheckPredictions(df[df.train==True], run,ls)\n",
        "        CheckPredictions(df[df['labels']==True], run,ls)"
      ],
      "execution_count": null,
      "outputs": []
    },
    {
      "cell_type": "code",
      "metadata": {
        "id": "7I2cEQhh847z",
        "colab_type": "code",
        "colab": {}
      },
      "source": [
        "import pandas as pd\n",
        "import numpy as np\n",
        "#X_trainA = np.stack(df['origin'][df['labels']==True].values, axis=0) #convert list of array to a stack to feed the model\n",
        "X_trainA = np.stack(df['origin'][df['labels']==True].values, axis=0)\n",
        "#no need to normalize, we already have the normalized histogram in the df\n",
        "print(X_trainA)"
      ],
      "execution_count": null,
      "outputs": []
    },
    {
      "cell_type": "code",
      "metadata": {
        "id": "utxmUKwQ8477",
        "colab_type": "code",
        "colab": {}
      },
      "source": [
        "input_size=len(X_train[0])\n",
        "input_layerA = Input(shape=(input_size, ))\n",
        "\n",
        "encodedA = Dense(20, activation='sigmoid')(input_layerA)\n",
        "encoded1A = Dense(10, activation='tanh')(encodedA)\n",
        "encoded2A = Dense(20, activation='sigmoid')(encoded1A)\n",
        "decoderA = Dense(input_size, activation='sigmoid')(encoded2A)\n",
        "\n",
        "autoencoder_Opt = Model(inputs=input_layerA, outputs=decoderA)\n",
        "autoencoder_Opt.compile(optimizer='adam', loss=mseTop10)\n",
        "\n",
        "for i, layer in enumerate(autoencoder_Opt.layers):\n",
        "             layer.name = 'layer_' + str(i)\n",
        "\n",
        "autoencoder_Opt.summary()"
      ],
      "execution_count": null,
      "outputs": []
    },
    {
      "cell_type": "code",
      "metadata": {
        "id": "D6U5jfWG848B",
        "colab_type": "code",
        "colab": {}
      },
      "source": [
        "history_Opt = autoencoder_Opt.fit(X_trainA,X_trainA, epochs=300, batch_size=100, shuffle=True, verbose=1,validation_split=0.1)"
      ],
      "execution_count": null,
      "outputs": []
    },
    {
      "cell_type": "code",
      "metadata": {
        "id": "GasWyIYt848H",
        "colab_type": "code",
        "colab": {}
      },
      "source": [
        "#calculate predictions and mse and add to original DF\n",
        "\n",
        "originS=np.stack(df['origin'].values, axis=0)\n",
        "predictionA=autoencoder_Opt.predict(originS)\n",
        "\n",
        "mseA=K.eval(mseTop10(originS,predictionA))\n",
        "\n",
        "df['predictions2']=\"\"\n",
        "df['mse2']=\"\"\n",
        "\n",
        "df['prediction2']=predictionA.tolist()\n",
        "df['mse2']=mseA\n",
        "\n",
        "\n",
        "print(df.head())"
      ],
      "execution_count": null,
      "outputs": []
    },
    {
      "cell_type": "code",
      "metadata": {
        "id": "8fV2lG9G848O",
        "colab_type": "code",
        "colab": {}
      },
      "source": [
        "def CheckAllPredictions(df_test, run, ls):\n",
        "\n",
        "    Xmax=80000.0\n",
        "    Xmin=0.0\n",
        "    Xbins=100\n",
        "    hname=\"chargeInner_PXLayer_1\"\n",
        "    \n",
        "    ahisto=df_test['origin'][run][ls]\n",
        "    ahisto1=df_test['prediction'][run][ls]\n",
        "    ahisto2=df_test['prediction2'][run][ls]\n",
        "    mse=df_test['mse'][run][ls]\n",
        "    mse2=df_test['mse2'][run][ls]\n",
        "    \n",
        "    x= np.linspace(Xmin,Xmax,Xbins)\n",
        "    #plt.xlim(Xmin,Xmax)\n",
        "    \n",
        "    plt.step(x, ahisto, where='mid', label=(\" Data \" + str(df_test.fromlumi[run][ls]) + \" Run \" + str(df_test.fromrun[run][ls]) ))\n",
        "    plt.step(x, ahisto1, where='mid', label=\" Raw Reco, mse:\" + str(mse))\n",
        "    plt.step(x, ahisto2, where='mid', label=\" Reco, mse:\" + str(mse2))\n",
        "    plt.xlabel(\"Charge electrons\")\n",
        "    plt.ylabel(\"A.U\")\n",
        "    plt.legend()\n",
        "    plt.show()"
      ],
      "execution_count": null,
      "outputs": []
    },
    {
      "cell_type": "code",
      "metadata": {
        "id": "_FP5IaCJ848U",
        "colab_type": "code",
        "colab": {}
      },
      "source": [
        "#compare some old and new predictions\n",
        "\n",
        "for run in df['fromrun'].unique():\n",
        "    count=0\n",
        "    if run <298000: continue\n",
        "    for ls in df['fromlumi'][run]: \n",
        "        if df['train'][run][ls]== True: continue\n",
        "        if df['mse2'][run][ls]<0.00001: continue\n",
        "        if df['entries'][run][ls]<3000: continue\n",
        "        #if (count >2): continue\n",
        "        count=count+1\n",
        "        #print(df.entries)[run][ls]\n",
        "        CheckAllPredictions(df[df.train==False], run,ls)"
      ],
      "execution_count": null,
      "outputs": []
    }
  ]
}